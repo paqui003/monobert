{
 "cells": [
  {
   "cell_type": "code",
   "execution_count": 1,
   "id": "45c000b5-431c-4f01-b1cc-7d5e4b5c284f",
   "metadata": {},
   "outputs": [
    {
     "name": "stderr",
     "output_type": "stream",
     "text": [
      "c:\\users\\pascal quindeau\\appdata\\local\\programs\\python\\python39\\lib\\site-packages\\tqdm\\auto.py:22: TqdmWarning: IProgress not found. Please update jupyter and ipywidgets. See https://ipywidgets.readthedocs.io/en/stable/user_install.html\n",
      "  from .autonotebook import tqdm as notebook_tqdm\n",
      "c:\\users\\pascal quindeau\\appdata\\local\\programs\\python\\python39\\lib\\site-packages\\tensorflow_addons\\utils\\ensure_tf_install.py:53: UserWarning: Tensorflow Addons supports using Python ops for all Tensorflow versions above or equal to 2.3.0 and strictly below 2.6.0 (nightly versions are not supported). \n",
      " The versions of TensorFlow you are currently using is 2.8.0 and is not supported. \n",
      "Some things might work, some things might not.\n",
      "If you were to encounter a bug, do not file an issue.\n",
      "If you want to make sure you're using a tested and supported configuration, either change the TensorFlow version or the TensorFlow Addons's version. \n",
      "You can find the compatibility matrix in TensorFlow Addon's readme:\n",
      "https://github.com/tensorflow/addons\n",
      "  warnings.warn(\n"
     ]
    }
   ],
   "source": [
    "import os\n",
    "\n",
    "import numpy as np\n",
    "import matplotlib.pyplot as plt\n",
    "import pandas as pd\n",
    "\n",
    "import tensorflow as tf\n",
    "\n",
    "import tensorflow_hub as hub\n",
    "import tensorflow_datasets as tfds\n",
    "tfds.disable_progress_bar()\n",
    "\n",
    "from official.modeling import tf_utils\n",
    "from official import nlp\n",
    "from official.nlp import bert\n",
    "\n",
    "# Load the required submodules\n",
    "import official.nlp.optimization\n",
    "import official.nlp.bert.bert_models\n",
    "import official.nlp.bert.configs\n",
    "import official.nlp.bert.run_classifier\n",
    "import official.nlp.bert.tokenization\n",
    "import official.nlp.data.classifier_data_lib\n",
    "import official.nlp.modeling.losses\n",
    "import official.nlp.modeling.models\n",
    "import official.nlp.modeling.networks"
   ]
  },
  {
   "cell_type": "code",
   "execution_count": 11,
   "id": "2a7d0a9f-6b78-4440-878f-d0fc551637cf",
   "metadata": {},
   "outputs": [],
   "source": [
    "docs_df = pd.read_csv(\"../corpus/dev.docs\", delimiter=\"\\t\", header=None, names=[\"docid\", \"text\"])"
   ]
  },
  {
   "cell_type": "markdown",
   "id": "814f2889-c7f5-4cd7-8a78-b042ce41b1df",
   "metadata": {},
   "source": [
    "Load the queries \"xyz.titles.queries\" and the groundtruth \"xyz.2-1-0.qrel\"."
   ]
  },
  {
   "cell_type": "code",
   "execution_count": 12,
   "id": "a2c48495-d555-4baf-90a2-317bae2e7d77",
   "metadata": {},
   "outputs": [],
   "source": [
    "queries_df = pd.read_csv(\"../query/dev.titles.queries\", delimiter=\"\\t\", header=None, names=[\"queryid\", \"text\"])\n",
    "relqueries_df = pd.read_csv(\"../qrel/dev.2-1-0.qrel\", delimiter=\"\\t\", header=None, names=[\"queryid\", \"0\", \"docid\", \"rellvl\"])\n",
    "\n",
    "relqueries_df.loc[:, \"rellvl\"] = 1"
   ]
  },
  {
   "cell_type": "code",
   "execution_count": 13,
   "id": "c08cb965-9c56-4da3-8482-04de3d23d8cd",
   "metadata": {},
   "outputs": [
    {
     "name": "stderr",
     "output_type": "stream",
     "text": [
      "c:\\users\\pascal quindeau\\appdata\\local\\programs\\python\\python39\\lib\\site-packages\\tqdm\\auto.py:22: TqdmWarning: IProgress not found. Please update jupyter and ipywidgets. See https://ipywidgets.readthedocs.io/en/stable/user_install.html\n",
      "  from .autonotebook import tqdm as notebook_tqdm\n",
      "c:\\users\\pascal quindeau\\appdata\\local\\programs\\python\\python39\\lib\\site-packages\\tensorflow_addons\\utils\\ensure_tf_install.py:53: UserWarning: Tensorflow Addons supports using Python ops for all Tensorflow versions above or equal to 2.3.0 and strictly below 2.6.0 (nightly versions are not supported). \n",
      " The versions of TensorFlow you are currently using is 2.8.0 and is not supported. \n",
      "Some things might work, some things might not.\n",
      "If you were to encounter a bug, do not file an issue.\n",
      "If you want to make sure you're using a tested and supported configuration, either change the TensorFlow version or the TensorFlow Addons's version. \n",
      "You can find the compatibility matrix in TensorFlow Addon's readme:\n",
      "https://github.com/tensorflow/addons\n",
      "  warnings.warn(\n"
     ]
    }
   ],
   "source": [
    "hub_url_bert = \"https://tfhub.dev/tensorflow/bert_en_uncased_L-12_H-768_A-12/3\""
   ]
  },
  {
   "cell_type": "code",
   "execution_count": 21,
   "id": "859a7360-b7e9-4c22-a212-65dd26098663",
   "metadata": {},
   "outputs": [
    {
     "data": {
      "text/html": [
       "<div>\n",
       "<style scoped>\n",
       "    .dataframe tbody tr th:only-of-type {\n",
       "        vertical-align: middle;\n",
       "    }\n",
       "\n",
       "    .dataframe tbody tr th {\n",
       "        vertical-align: top;\n",
       "    }\n",
       "\n",
       "    .dataframe thead th {\n",
       "        text-align: right;\n",
       "    }\n",
       "</style>\n",
       "<table border=\"1\" class=\"dataframe\">\n",
       "  <thead>\n",
       "    <tr style=\"text-align: right;\">\n",
       "      <th></th>\n",
       "      <th>textquery</th>\n",
       "      <th>textdoc</th>\n",
       "      <th>rellvl</th>\n",
       "    </tr>\n",
       "  </thead>\n",
       "  <tbody>\n",
       "    <tr>\n",
       "      <th>0</th>\n",
       "      <td>why deep fried foods may cause cancer</td>\n",
       "      <td>birth weight head circumference prenatal expos...</td>\n",
       "      <td>1</td>\n",
       "    </tr>\n",
       "    <tr>\n",
       "      <th>1</th>\n",
       "      <td>why deep fried foods may cause cancer</td>\n",
       "      <td>statistical regression model estimation acryla...</td>\n",
       "      <td>1</td>\n",
       "    </tr>\n",
       "    <tr>\n",
       "      <th>2</th>\n",
       "      <td>why deep fried foods may cause cancer</td>\n",
       "      <td>chronic intake potato chips humans increases p...</td>\n",
       "      <td>1</td>\n",
       "    </tr>\n",
       "    <tr>\n",
       "      <th>3</th>\n",
       "      <td>why deep fried foods may cause cancer</td>\n",
       "      <td>dietary patterns breast cancer risk women pubm...</td>\n",
       "      <td>1</td>\n",
       "    </tr>\n",
       "    <tr>\n",
       "      <th>4</th>\n",
       "      <td>why deep fried foods may cause cancer</td>\n",
       "      <td>empirically derived dietary patterns risk post...</td>\n",
       "      <td>1</td>\n",
       "    </tr>\n",
       "    <tr>\n",
       "      <th>...</th>\n",
       "      <td>...</td>\n",
       "      <td>...</td>\n",
       "      <td>...</td>\n",
       "    </tr>\n",
       "    <tr>\n",
       "      <th>11380</th>\n",
       "      <td>is kimchi good for you ?</td>\n",
       "      <td>bacterial vaginosis variation dietary indices ...</td>\n",
       "      <td>1</td>\n",
       "    </tr>\n",
       "    <tr>\n",
       "      <th>11381</th>\n",
       "      <td>is kimchi good for you ?</td>\n",
       "      <td>high fat intake leads acute postprandial expos...</td>\n",
       "      <td>1</td>\n",
       "    </tr>\n",
       "    <tr>\n",
       "      <th>11382</th>\n",
       "      <td>is kimchi good for you ?</td>\n",
       "      <td>capacity foodstuffs induce innate immune activ...</td>\n",
       "      <td>1</td>\n",
       "    </tr>\n",
       "    <tr>\n",
       "      <th>11383</th>\n",
       "      <td>is kimchi good for you ?</td>\n",
       "      <td>acute subacute toxicity tyramine spermidine sp...</td>\n",
       "      <td>1</td>\n",
       "    </tr>\n",
       "    <tr>\n",
       "      <th>11384</th>\n",
       "      <td>is kimchi good for you ?</td>\n",
       "      <td>determination biogenic amines korean tradition...</td>\n",
       "      <td>1</td>\n",
       "    </tr>\n",
       "  </tbody>\n",
       "</table>\n",
       "<p>11385 rows × 3 columns</p>\n",
       "</div>"
      ],
      "text/plain": [
       "                                   textquery  \\\n",
       "0      why deep fried foods may cause cancer   \n",
       "1      why deep fried foods may cause cancer   \n",
       "2      why deep fried foods may cause cancer   \n",
       "3      why deep fried foods may cause cancer   \n",
       "4      why deep fried foods may cause cancer   \n",
       "...                                      ...   \n",
       "11380               is kimchi good for you ?   \n",
       "11381               is kimchi good for you ?   \n",
       "11382               is kimchi good for you ?   \n",
       "11383               is kimchi good for you ?   \n",
       "11384               is kimchi good for you ?   \n",
       "\n",
       "                                                 textdoc  rellvl  \n",
       "0      birth weight head circumference prenatal expos...       1  \n",
       "1      statistical regression model estimation acryla...       1  \n",
       "2      chronic intake potato chips humans increases p...       1  \n",
       "3      dietary patterns breast cancer risk women pubm...       1  \n",
       "4      empirically derived dietary patterns risk post...       1  \n",
       "...                                                  ...     ...  \n",
       "11380  bacterial vaginosis variation dietary indices ...       1  \n",
       "11381  high fat intake leads acute postprandial expos...       1  \n",
       "11382  capacity foodstuffs induce innate immune activ...       1  \n",
       "11383  acute subacute toxicity tyramine spermidine sp...       1  \n",
       "11384  determination biogenic amines korean tradition...       1  \n",
       "\n",
       "[11385 rows x 3 columns]"
      ]
     },
     "execution_count": 21,
     "metadata": {},
     "output_type": "execute_result"
    }
   ],
   "source": [
    "merged_data = relqueries_df.merge(docs_df, on=\"docid\").merge(queries_df, on=\"queryid\", suffixes=[\"doc\", \"query\"])\n",
    "merged_data = merged_data[[\"textquery\", \"textdoc\", \"rellvl\"]]\n",
    "merged_data"
   ]
  },
  {
   "cell_type": "code",
   "execution_count": 79,
   "id": "6bb8fcf7-6494-46cf-8712-5823838ac69d",
   "metadata": {},
   "outputs": [],
   "source": [
    "def negSample(n):\n",
    "    #q = \"why deep fried foods may cause cancer\"\n",
    "    neg_df = pd.DataFrame(columns=[\"textquery\", \"textdoc\", \"rellvl\"])\n",
    "    for i, q in enumerate(queries_df[\"text\"]):\n",
    "\n",
    "        tmp = merged_data[~ (merged_data[\"textquery\"] == q)][\"textdoc\"]\n",
    "        neg_samples = np.random.choice(tmp, size=n, replace=False)\n",
    "        #print(i)\n",
    "        df = pd.DataFrame(data={\"textquery\": q,\n",
    "                           \"textdoc\": neg_samples,\n",
    "                           \"rellvl\":0})\n",
    "        neg_df = neg_df.append(df).copy()\n",
    "    \n",
    "    return neg_df.reset_index(drop=True)"
   ]
  },
  {
   "cell_type": "code",
   "execution_count": 80,
   "id": "2927a11c-d49c-4b9b-bd72-b19f461a596f",
   "metadata": {
    "tags": []
   },
   "outputs": [],
   "source": [
    "negdf = negSample(15)"
   ]
  },
  {
   "cell_type": "code",
   "execution_count": 90,
   "id": "429f302f-e0c2-469a-b14e-9665d3a6d5ca",
   "metadata": {},
   "outputs": [
    {
     "data": {
      "text/html": [
       "<div>\n",
       "<style scoped>\n",
       "    .dataframe tbody tr th:only-of-type {\n",
       "        vertical-align: middle;\n",
       "    }\n",
       "\n",
       "    .dataframe tbody tr th {\n",
       "        vertical-align: top;\n",
       "    }\n",
       "\n",
       "    .dataframe thead th {\n",
       "        text-align: right;\n",
       "    }\n",
       "</style>\n",
       "<table border=\"1\" class=\"dataframe\">\n",
       "  <thead>\n",
       "    <tr style=\"text-align: right;\">\n",
       "      <th></th>\n",
       "      <th>textquery</th>\n",
       "      <th>textdoc</th>\n",
       "      <th>rellvl</th>\n",
       "    </tr>\n",
       "  </thead>\n",
       "  <tbody>\n",
       "    <tr>\n",
       "      <th>10408</th>\n",
       "      <td>uterine cancer</td>\n",
       "      <td>flax breast cancer systematic review pubmed nc...</td>\n",
       "      <td>1</td>\n",
       "    </tr>\n",
       "    <tr>\n",
       "      <th>6518</th>\n",
       "      <td>steroids</td>\n",
       "      <td>physical activity obesity eating habits influe...</td>\n",
       "      <td>1</td>\n",
       "    </tr>\n",
       "    <tr>\n",
       "      <th>3454</th>\n",
       "      <td>anabolic steroids in meat</td>\n",
       "      <td>iodine thyroid cancer risk women multiethnic p...</td>\n",
       "      <td>0</td>\n",
       "    </tr>\n",
       "    <tr>\n",
       "      <th>3243</th>\n",
       "      <td>cinnamon for diabetes</td>\n",
       "      <td>cinnamon intake lowers fasting blood glucose m...</td>\n",
       "      <td>1</td>\n",
       "    </tr>\n",
       "    <tr>\n",
       "      <th>4528</th>\n",
       "      <td>world health organization</td>\n",
       "      <td>energy fructose beverages sweetened sugar high...</td>\n",
       "      <td>1</td>\n",
       "    </tr>\n",
       "    <tr>\n",
       "      <th>...</th>\n",
       "      <td>...</td>\n",
       "      <td>...</td>\n",
       "      <td>...</td>\n",
       "    </tr>\n",
       "    <tr>\n",
       "      <th>369</th>\n",
       "      <td>cookies</td>\n",
       "      <td>heterocyclic amines mutagens/carcinogens produ...</td>\n",
       "      <td>1</td>\n",
       "    </tr>\n",
       "    <tr>\n",
       "      <th>4245</th>\n",
       "      <td>apigen</td>\n",
       "      <td>antidiabetic potential commonly consumed legum...</td>\n",
       "      <td>0</td>\n",
       "    </tr>\n",
       "    <tr>\n",
       "      <th>2076</th>\n",
       "      <td>chemotherapy</td>\n",
       "      <td>concordance world cancer research fund/america...</td>\n",
       "      <td>1</td>\n",
       "    </tr>\n",
       "    <tr>\n",
       "      <th>2534</th>\n",
       "      <td>treating asthma and eczema with plant-based diets</td>\n",
       "      <td>plant foods risk cerebrovascular diseases pote...</td>\n",
       "      <td>0</td>\n",
       "    </tr>\n",
       "    <tr>\n",
       "      <th>10873</th>\n",
       "      <td>chicken embryo lethal orphan virus</td>\n",
       "      <td>adenovirus num obesity children adults sweden ...</td>\n",
       "      <td>1</td>\n",
       "    </tr>\n",
       "  </tbody>\n",
       "</table>\n",
       "<p>16260 rows × 3 columns</p>\n",
       "</div>"
      ],
      "text/plain": [
       "                                               textquery  \\\n",
       "10408                                     uterine cancer   \n",
       "6518                                            steroids   \n",
       "3454                           anabolic steroids in meat   \n",
       "3243                               cinnamon for diabetes   \n",
       "4528                           world health organization   \n",
       "...                                                  ...   \n",
       "369                                              cookies   \n",
       "4245                                              apigen   \n",
       "2076                                        chemotherapy   \n",
       "2534   treating asthma and eczema with plant-based diets   \n",
       "10873                 chicken embryo lethal orphan virus   \n",
       "\n",
       "                                                 textdoc rellvl  \n",
       "10408  flax breast cancer systematic review pubmed nc...      1  \n",
       "6518   physical activity obesity eating habits influe...      1  \n",
       "3454   iodine thyroid cancer risk women multiethnic p...      0  \n",
       "3243   cinnamon intake lowers fasting blood glucose m...      1  \n",
       "4528   energy fructose beverages sweetened sugar high...      1  \n",
       "...                                                  ...    ...  \n",
       "369    heterocyclic amines mutagens/carcinogens produ...      1  \n",
       "4245   antidiabetic potential commonly consumed legum...      0  \n",
       "2076   concordance world cancer research fund/america...      1  \n",
       "2534   plant foods risk cerebrovascular diseases pote...      0  \n",
       "10873  adenovirus num obesity children adults sweden ...      1  \n",
       "\n",
       "[16260 rows x 3 columns]"
      ]
     },
     "execution_count": 90,
     "metadata": {},
     "output_type": "execute_result"
    }
   ],
   "source": [
    "train_data = merged_data.append(negdf)\n",
    "train_data = train_data.sample(frac=1)\n",
    "train_data"
   ]
  },
  {
   "cell_type": "code",
   "execution_count": 86,
   "id": "5ec507ce-5d12-4790-a3d9-c6575524f7bd",
   "metadata": {},
   "outputs": [
    {
     "name": "stdout",
     "output_type": "stream",
     "text": [
      "Vocab size: 30522\n"
     ]
    }
   ],
   "source": [
    "tokenizer = bert.tokenization.FullTokenizer(\n",
    "    vocab_file=os.path.join(\"../models/bert_en_uncased_L-12_H-768_A-12_4/assets/\", \"vocab.txt\"),\n",
    "     do_lower_case=True)\n",
    "\n",
    "print(\"Vocab size:\", len(tokenizer.vocab))\n"
   ]
  },
  {
   "cell_type": "code",
   "execution_count": 87,
   "id": "c6ec6204-f733-4d32-869a-f5b35272ffd5",
   "metadata": {},
   "outputs": [
    {
     "name": "stdout",
     "output_type": "stream",
     "text": [
      "['hello', 'tensor', '##flow', '!']\n",
      "[7592, 23435, 12314, 999]\n"
     ]
    }
   ],
   "source": [
    "tokens = tokenizer.tokenize(\"Hello TensorFlow!\")\n",
    "print(tokens)\n",
    "ids = tokenizer.convert_tokens_to_ids(tokens)\n",
    "print(ids)"
   ]
  },
  {
   "cell_type": "code",
   "execution_count": 88,
   "id": "0a9188e4-10d4-4d26-9bee-3048c6c65dd5",
   "metadata": {},
   "outputs": [
    {
     "data": {
      "text/plain": [
       "[101, 102]"
      ]
     },
     "execution_count": 88,
     "metadata": {},
     "output_type": "execute_result"
    }
   ],
   "source": [
    "tokenizer.convert_tokens_to_ids(['[CLS]', '[SEP]'])"
   ]
  },
  {
   "cell_type": "code",
   "execution_count": 95,
   "id": "473cdf98-1637-4579-b10f-7ee682b9dce1",
   "metadata": {},
   "outputs": [],
   "source": [
    "def encode_sentence(s):\n",
    "    tokens = list(tokenizer.tokenize(s.numpy()))\n",
    "    tokens.append('[SEP]')\n",
    "    return tokenizer.convert_tokens_to_ids(tokens)\n",
    "\n",
    "query = tf.ragged.constant([\n",
    "     encode_sentence(s) for s in tf.convert_to_tensor(train_data[\"textquery\"])])\n",
    "sentence = tf.ragged.constant([\n",
    "     encode_sentence(s) for s in tf.convert_to_tensor(train_data[\"textdoc\"])])"
   ]
  },
  {
   "cell_type": "code",
   "execution_count": 96,
   "id": "dc44df8a-b121-498f-9cfc-7419de64d860",
   "metadata": {},
   "outputs": [
    {
     "name": "stdout",
     "output_type": "stream",
     "text": [
      "Sentence1 shape: [16260, None]\n",
      "Sentence2 shape: [16260, None]\n"
     ]
    }
   ],
   "source": [
    "print(\"Sentence1 shape:\", query.shape.as_list())\n",
    "print(\"Sentence2 shape:\", sentence.shape.as_list())\n"
   ]
  },
  {
   "cell_type": "code",
   "execution_count": 97,
   "id": "7e51c43c-eefb-4975-b277-cf7a9ebb4530",
   "metadata": {},
   "outputs": [
    {
     "data": {
      "image/png": "[encoded data removed]",
      "text/plain": [
       "<Figure size 432x288 with 1 Axes>"
      ]
     },
     "metadata": {
      "needs_background": "light"
     },
     "output_type": "display_data"
    }
   ],
   "source": [
    "cls = [tokenizer.convert_tokens_to_ids(['[CLS]'])]*query.shape[0]\n",
    "input_word_ids = tf.concat([cls, query, sentence], axis=-1)\n",
    "_ = plt.pcolormesh(input_word_ids.to_tensor())"
   ]
  },
  {
   "cell_type": "code",
   "execution_count": 98,
   "id": "2e7d4ab7-1190-45d8-b2e7-02e918ed4551",
   "metadata": {},
   "outputs": [
    {
     "data": {
      "text/plain": [
       "<matplotlib.collections.QuadMesh at 0x1df0b31b760>"
      ]
     },
     "execution_count": 98,
     "metadata": {},
     "output_type": "execute_result"
    },
    {
     "data": {
      "image/png": "[encoded data removed]",
      "text/plain": [
       "<Figure size 432x288 with 1 Axes>"
      ]
     },
     "metadata": {
      "needs_background": "light"
     },
     "output_type": "display_data"
    }
   ],
   "source": [
    "input_mask = tf.ones_like(input_word_ids).to_tensor()\n",
    "\n",
    "plt.pcolormesh(input_mask)"
   ]
  },
  {
   "cell_type": "code",
   "execution_count": 100,
   "id": "3138361c-2102-454e-af44-7a4f7fc19751",
   "metadata": {},
   "outputs": [
    {
     "data": {
      "text/plain": [
       "<matplotlib.collections.QuadMesh at 0x1df0b2c8520>"
      ]
     },
     "execution_count": 100,
     "metadata": {},
     "output_type": "execute_result"
    },
    {
     "data": {
      "image/png": "[encoded data removed]",
      "text/plain": [
       "<Figure size 432x288 with 1 Axes>"
      ]
     },
     "metadata": {
      "needs_background": "light"
     },
     "output_type": "display_data"
    }
   ],
   "source": [
    "type_cls = tf.zeros_like(cls)\n",
    "type_s1 = tf.zeros_like(query)\n",
    "type_s2 = tf.ones_like(sentence)\n",
    "input_type_ids = tf.concat([type_cls, type_s1, type_s2], axis=-1).to_tensor()\n",
    "\n",
    "plt.pcolormesh(input_type_ids)\n"
   ]
  },
  {
   "cell_type": "code",
   "execution_count": 103,
   "id": "06e758ed-9239-491f-9763-d3581b68d69e",
   "metadata": {},
   "outputs": [],
   "source": [
    "def encode_sentence(s, tokenizer):\n",
    "    tokens = list(tokenizer.tokenize(s))\n",
    "    tokens.append('[SEP]')\n",
    "    return tokenizer.convert_tokens_to_ids(tokens)\n",
    "\n",
    "def bert_encode(glue_dict, tokenizer):\n",
    "    num_examples = len(glue_dict[\"textquery\"])\n",
    "\n",
    "    sentence1 = tf.ragged.constant([\n",
    "      encode_sentence(s, tokenizer)\n",
    "      for s in np.array(glue_dict[\"textquery\"])])\n",
    "    sentence2 = tf.ragged.constant([\n",
    "      encode_sentence(s, tokenizer)\n",
    "       for s in np.array(glue_dict[\"textdoc\"])])\n",
    "\n",
    "    cls = [tokenizer.convert_tokens_to_ids(['[CLS]'])]*sentence1.shape[0]\n",
    "    input_word_ids = tf.concat([cls, sentence1, sentence2], axis=-1)\n",
    "\n",
    "    input_mask = tf.ones_like(input_word_ids).to_tensor()\n",
    "\n",
    "    type_cls = tf.zeros_like(cls)\n",
    "    type_s1 = tf.zeros_like(sentence1)\n",
    "    type_s2 = tf.ones_like(sentence2)\n",
    "    input_type_ids = tf.concat(\n",
    "      [type_cls, type_s1, type_s2], axis=-1).to_tensor()\n",
    "\n",
    "    inputs = {\n",
    "      'input_word_ids': input_word_ids.to_tensor(),\n",
    "      'input_mask': input_mask,\n",
    "      'input_type_ids': input_type_ids}\n",
    "\n",
    "    return inputs"
   ]
  },
  {
   "cell_type": "code",
   "execution_count": 104,
   "id": "3417fbae-682d-4539-846a-79311367a32c",
   "metadata": {},
   "outputs": [],
   "source": [
    "glue_train = bert_encode(train_data, tokenizer)\n",
    "glue_train_labels = train_data['rellvl']"
   ]
  },
  {
   "cell_type": "code",
   "execution_count": 107,
   "id": "a9814a95-24ce-40c7-8508-4685519ce1a7",
   "metadata": {},
   "outputs": [
    {
     "name": "stdout",
     "output_type": "stream",
     "text": [
      "input_word_ids  shape: (16260, 1276)\n",
      "input_mask      shape: (16260, 1276)\n",
      "input_type_ids  shape: (16260, 1276)\n",
      "glue_train_labels shape: (16260,)\n"
     ]
    }
   ],
   "source": [
    "for key, value in glue_train.items():\n",
    "    print(f'{key:15s} shape: {value.shape}')\n",
    "\n",
    "print(f'glue_train_labels shape: {glue_train_labels.shape}')\n"
   ]
  },
  {
   "cell_type": "code",
   "execution_count": 26,
   "id": "a07afeee-7737-47e7-8731-810010eb6e12",
   "metadata": {},
   "outputs": [],
   "source": [
    "preprocessor = hub.load(\n",
    "    \"https://tfhub.dev/tensorflow/bert_en_uncased_preprocess/3\")\n",
    "\n",
    "\n",
    "text_inputs = [tf.keras.layers.Input(shape=(), dtype=tf.string),\n",
    "               tf.keras.layers.Input(shape=(), dtype=tf.string)]\n",
    "\n",
    "tokenize = hub.KerasLayer(preprocessor.tokenize)\n",
    "tokenized_inputs = [tokenize(segment) for segment in text_inputs]\n",
    "\n",
    "# Step 2 (optional): modify tokenized inputs.\n",
    "pass\n",
    "\n",
    "# Step 3: pack input sequences for the Transformer encoder.\n",
    "seq_length = 512  # Your choice here.\n",
    "bert_pack_inputs = hub.KerasLayer(\n",
    "    preprocessor.bert_pack_inputs,\n",
    "    arguments=dict(seq_length=seq_length))  # Optional argument.\n",
    "\n",
    "encoder_inputs = bert_pack_inputs(tokenized_inputs)\n",
    "\n",
    "\n",
    "#input = preprocessor([[\"This is an amazing movie!\"], [\"Guten Tag!\"]])"
   ]
  },
  {
   "cell_type": "code",
   "execution_count": 27,
   "id": "b2cdaafe-5400-4699-851c-beb105fdad22",
   "metadata": {},
   "outputs": [],
   "source": [
    "encoder = hub.KerasLayer(\n",
    "    \"https://tfhub.dev/tensorflow/bert_en_uncased_L-12_H-768_A-12/4\",\n",
    "    trainable=True)"
   ]
  },
  {
   "cell_type": "code",
   "execution_count": 28,
   "id": "a69e7857-cef9-418e-8f54-7a6019ae426e",
   "metadata": {},
   "outputs": [],
   "source": [
    "outputs = encoder(encoder_inputs)\n",
    "pooled_output = outputs[\"pooled_output\"]"
   ]
  },
  {
   "cell_type": "code",
   "execution_count": 31,
   "id": "78716200-b52f-4553-a9bc-eddfbf300a95",
   "metadata": {
    "tags": []
   },
   "outputs": [
    {
     "name": "stdout",
     "output_type": "stream",
     "text": [
      "tf.Tensor(\n",
      "[[-0.98688966 -0.9089048  -0.99971193  0.99159765  0.984704   -0.81405705\n",
      "   0.996529    0.82142717 -0.99922305 -1.         -0.9676708   0.9993619\n",
      "   0.97088766  0.9816123   0.9844062  -0.986985   -0.9687135  -0.9018481\n",
      "   0.80220646 -0.9646005   0.9425796   1.         -0.85206443  0.7913367\n",
      "   0.93046665  0.9999957  -0.98084235  0.9646719   0.98235774  0.8040154\n",
      "  -0.9815867   0.79421306 -0.9835208  -0.7857129  -0.9995796  -0.99816024\n",
      "   0.9271016  -0.90763927 -0.7537526  -0.63823724 -0.9580901   0.87004083\n",
      "   1.          0.9001473   0.8737939  -0.8261321  -1.          0.8190876\n",
      "  -0.9465217   0.9998865   0.9992553   0.9993681   0.8404662   0.9233849\n",
      "   0.92387635 -0.8552044   0.7521898   0.7830656  -0.7644097  -0.94173855\n",
      "  -0.8937286   0.8930864  -0.99866444 -0.9753571   0.9997553   0.9989483\n",
      "  -0.875799   -0.8205304  -0.8288699   0.6664066   0.9929852   0.80702084\n",
      "  -0.7297061  -0.93260777  0.9974075   0.83782095 -0.9096185   1.\n",
      "  -0.97376573 -0.98517245  0.99796855  0.99837106  0.8985274  -0.98930734\n",
      "   0.98826164 -1.          0.96580976 -0.636617   -0.9852389   0.8202712\n",
      "   0.9466487  -0.83883196  0.97846454  0.9231567  -0.97578394 -0.92098254\n",
      "  -0.88367796 -0.9969333  -0.91117924 -0.90708     0.77565926 -0.82185256\n",
      "  -0.9409806  -0.8272798   0.8944525  -0.9347155  -0.93578327  0.94986707\n",
      "   0.9214243   0.93819857  0.8151966  -0.86495274  0.92540264 -0.9857298\n",
      "   0.9606051  -0.8296282  -0.98582464 -0.9088171  -0.9871335   0.8994561\n",
      "  -0.89104867 -0.88414776  0.9894298  -0.91845596  0.8854676  -0.8138686\n",
      "  -0.99989575 -1.         -0.9859863  -0.9193358  -0.911805   -0.88272226\n",
      "  -0.97794086 -0.96580493  0.9468077   0.96742916  0.8375823   0.99999964\n",
      "  -0.8978629   0.9730166  -0.96377724 -0.9892835   0.9898652  -0.9351753\n",
      "   0.98526233  0.9690026  -0.9745585   0.73098373 -0.90183824  0.9702288\n",
      "  -0.9799262  -0.8024576  -0.9974268  -0.9584696  -0.8077316   0.97089887\n",
      "  -0.9783497  -0.9999312  -0.95797503 -0.8086129  -0.91405517  0.9604301\n",
      "   0.972647    0.88519526 -0.9462193   0.9282622   0.9852194   0.9316955\n",
      "  -0.9449774  -0.9293342   0.91664314 -0.8226137  -0.99827874 -0.97720647\n",
      "  -0.87447894  0.8189282   0.98878086  0.9164143   0.8653066   0.99707365\n",
      "  -0.84219533  0.98808926 -0.9751786   0.98187864 -0.7784793   0.7443894\n",
      "  -0.84094477  0.94364    -0.9598293   0.84707254  0.9867958  -0.9901846\n",
      "  -0.91459405 -0.8607774  -0.86828476 -0.90410906 -0.9919105   0.8214275\n",
      "  -0.83565116 -0.7810156  -0.7777301   0.93583953  0.9997685   0.9314908\n",
      "   0.9788501   0.93926495 -0.98567945 -0.92501473  0.8117968   0.8275728\n",
      "   0.86609125  0.9964877  -0.9163969  -0.79678303 -0.9734826  -0.9889798\n",
      "   0.7202684  -0.97272193 -0.85648584 -0.9343181   0.98543364 -0.86702955\n",
      "   0.9952908   0.9174851  -0.99996525 -0.9410225   0.8773203  -0.8999333\n",
      "   0.9010039  -0.73796755  0.5533928   0.99970424 -0.9489165   0.9926249\n",
      "   0.9360776  -0.9986265  -0.85974956  0.9901274  -0.8505052   0.9849349\n",
      "  -0.96876127  0.99879783  0.99965274  0.9933395  -0.9609323  -0.99589103\n",
      "  -0.9865931  -0.99812615 -0.77302724  0.9706975   0.99977505  0.933319\n",
      "   0.9085843  -0.90834105 -0.96365094  0.9999984  -0.42896912 -0.9566999\n",
      "  -0.305855   -0.93189055 -0.9848637   0.9975384   0.8148199   0.8777596\n",
      "  -0.90714836 -0.9628197  -0.9680407   0.995635    0.8023335   0.9998328\n",
      "  -0.85099417 -0.99849164 -0.98517835 -0.96194667  0.67765    -0.8491413\n",
      "  -0.98753935  0.52027375 -0.97629523  0.9139411   0.8315566   0.9073173\n",
      "  -0.9993998   0.9999989   1.          0.97871655  0.9486698   0.99542606\n",
      "  -1.         -0.5533132   1.         -0.99999344 -1.         -0.9688694\n",
      "  -0.9740207   0.7002227  -1.         -0.77283144 -0.6972122  -0.94317454\n",
      "   0.9951095   0.97915065  0.9999781  -1.          0.8528219   0.9692274\n",
      "  -0.93875974  0.999804   -0.9360557   0.963666    0.95451033  0.77561474\n",
      "  -0.81973714  0.8776396  -0.99961984 -0.9925174  -0.99363583 -0.99171215\n",
      "   0.99999905  0.7930707  -0.970965   -0.974856    0.8774169  -0.83105785\n",
      "   0.82988274 -0.97318745 -0.8102361   0.9950392   0.98155105  0.7989231\n",
      "   0.84531915 -0.93273234  0.8664133   0.85065913  0.90954834  0.9038914\n",
      "  -0.96047425 -0.89701396 -0.942426    0.7983494  -0.99483705 -0.9693124\n",
      "   0.9909147  -0.8959652   0.9996668   1.          0.74745107 -0.9824281\n",
      "   0.96970844  0.89500797 -0.712596    1.          0.9815953  -0.9663458\n",
      "  -0.8864005   0.96196866 -0.9686096  -0.9786641   0.99997777 -0.8604033\n",
      "  -0.9976647  -0.97491086  0.9655776  -0.98544246  0.99999535 -0.9785047\n",
      "  -0.9707289   0.97924745  0.9527098  -0.97762746 -0.7269964   0.8758961\n",
      "  -0.99625015  0.8385013  -0.99523115  0.9866594   0.94457525 -0.75630075\n",
      "   0.9524867  -0.99733746 -0.8777798   0.8089368  -0.9884367  -0.91187125\n",
      "   0.99965996  0.9343869  -0.8080253   0.71499825 -0.8805989  -0.28770557\n",
      "  -0.98786265  0.9245516   1.         -0.92503864  0.98721755 -0.96921986\n",
      "  -0.66219395  0.8146571   0.92877245  0.94964725 -0.8719486  -0.94652194\n",
      "   0.99522984 -0.99971324 -0.9754616   0.97278625  0.809908   -0.8463657\n",
      "   1.          0.9676488   0.81346446  0.94112843  0.9999849   0.6842908\n",
      "   0.951747    0.9998306   0.9743887  -0.8049578   0.89866567  0.9856432\n",
      "  -0.9998473  -0.84387386 -0.9163178   0.69435394 -0.9190884  -0.7758833\n",
      "  -0.98305845  0.97995746  0.99994534  0.9110696   0.88636935  0.9894209\n",
      "   1.          0.11132814  0.93423116 -0.98299694  0.99778986 -1.\n",
      "  -0.99239707 -0.88028276 -0.7828672  -0.99932426 -0.85749257  0.83321375\n",
      "  -0.9733678   0.9992891   0.9916893  -0.99995846 -0.99161524 -0.9559148\n",
      "   0.99345076  0.77120024 -0.99993867 -0.9823513  -0.7794442   0.990164\n",
      "  -0.9027005  -0.9797408  -0.9857165  -0.8802341   0.92869574 -0.7904721\n",
      "   0.85904866  0.99956423 -0.8403772  -0.9847766  -0.8930331  -0.6965905\n",
      "  -0.9818299   0.98507154 -0.97438693 -0.99973726 -0.787853    1.\n",
      "  -0.86431694  0.9987955   0.9389223   0.9802644  -0.807474    0.6609705\n",
      "   0.9993301   0.8478557  -0.9986316  -0.99979377 -0.9947951  -0.9104014\n",
      "   0.93565816  0.9634799   0.99579775  0.921566    0.95464677  0.77820325\n",
      "  -0.811588    0.79646236  1.         -0.8636237  -0.8469671  -0.9259914\n",
      "  -0.70748186 -0.8646385  -0.97340864  1.          0.8207112   0.93816406\n",
      "  -0.9884429  -0.99856746 -0.99524367  1.          0.9056539  -0.87757444\n",
      "   0.9474173   0.96639097 -0.7930032   0.9935316  -0.85551965 -0.8187381\n",
      "   0.87009406  0.8125341   0.96580666 -0.95132935 -0.9557851  -0.8812333\n",
      "   0.9447019  -0.9764974   1.         -0.94704336 -0.7946336  -0.8073582\n",
      "  -0.91596365  0.98895556  0.55911374 -0.9842691  -0.87682116  0.8626187\n",
      "   0.97833216  0.86524445 -0.9091398  -0.97464687  0.99949443  0.99568594\n",
      "  -0.99968505 -0.94616634  0.96075046 -0.99485725  0.96461016  1.\n",
      "   0.82836616  0.95365584  0.88697636 -0.89725846  0.9207191  -0.89644086\n",
      "   0.9722618  -0.98441803 -0.9019251  -0.77746063  0.89652026 -0.8309376\n",
      "  -0.7574736   0.8896242   0.76838773 -0.88620496 -0.9566565  -0.8385098\n",
      "   0.8988044   0.990966   -0.8408824  -0.81039447  0.7439662  -0.8031622\n",
      "  -0.9947041  -0.8760862  -0.94525236 -1.          0.94627404 -1.\n",
      "   0.97023076  0.9703294  -0.74856603  0.9076411   0.47737703  0.9688139\n",
      "  -0.93282425 -0.9995075  -0.9180333   0.9475994  -0.9319311  -0.99091643\n",
      "  -0.91080374  0.9158837  -0.82581747  0.77121025 -0.9861317   0.90451443\n",
      "  -0.8487605   1.          0.84216    -0.9779859  -0.9998257   0.7959666\n",
      "  -0.88004047  1.         -0.996193   -0.9694251   0.9026872  -0.9864567\n",
      "  -0.9471798   0.8707092   0.73320824 -0.9807506  -0.99981695  0.9939627\n",
      "   0.99817264 -0.7959274   0.8969217  -0.88192403 -0.9375401   0.78188324\n",
      "   0.9991944   0.9845537   0.89478177  0.99282646 -0.6532822  -0.87094975\n",
      "   0.9772018   0.8434299   0.9358091   0.8073663   1.          0.85647905\n",
      "  -0.9708248  -0.8160569  -0.99375486 -0.8965668  -0.99263495  0.87797403\n",
      "   0.8715133   0.9640707  -0.8733388   0.9888974  -0.99910593  0.7609019\n",
      "  -0.98418    -0.99452704  0.8893574  -0.96856976 -0.97488654 -0.97445494\n",
      "   0.9657426  -0.8341836  -0.74130636  0.8179502   0.756043    0.9356147\n",
      "   0.909503   -1.          0.9644198   0.93266773  0.9996043   0.96599233\n",
      "   0.9866817   0.90419596  0.7759006  -0.9843559  -0.99990904 -0.8886487\n",
      "  -0.79579574  0.96123075  0.9535863   0.9689684   0.92323685 -0.8341399\n",
      "  -0.7305978  -0.99114376 -0.5361879  -0.9924275   0.9018799  -0.99633765\n",
      "  -0.99957204  0.9718724   0.8769529  -0.75055915 -0.95426315 -0.99436235\n",
      "   0.99852145  0.939327    0.9224382   0.70123     0.80676997  0.95623827\n",
      "   0.9966571   0.97450453 -0.99871206  0.97667724 -0.99498737  0.89147085\n",
      "   0.42025113 -0.9456953   0.81767285  0.94019914 -0.94594663  0.8309095\n",
      "  -0.83997524 -0.9993658   0.30835143 -0.8769142   0.92066383 -0.88730764\n",
      "  -0.72600937 -0.88114244 -0.7340739  -0.8180006  -0.9836198   0.9089188\n",
      "   0.9346182   0.9481514   0.9895712  -0.79995537 -0.9894179  -0.8059384\n",
      "  -0.9983162  -0.93068206  0.9983205  -0.8010433  -0.98906827  0.97319615\n",
      "   0.76402676  0.34200627  0.9299913  -0.88865405 -0.87557673 -0.9491726\n",
      "   0.97909135 -0.6981701  -0.9487738  -0.95005983  0.92629564  0.8328048\n",
      "   1.         -0.99710846 -0.9998064  -0.7621022  -0.9087586   0.8152341\n",
      "  -0.9165885  -1.          0.8614571  -0.9823201   0.98835623 -0.99340826\n",
      "   0.997299   -0.9922542  -0.99928725 -0.854102    0.8237665   0.99491954\n",
      "  -0.9160221  -0.9860035   0.8763418  -0.97040874  0.99995553  0.9588421\n",
      "  -0.9327251  -0.89467293  0.9277941  -0.9906884  -0.9481471   0.98236233]], shape=(1, 768), dtype=float32)\n"
     ]
    }
   ],
   "source": [
    "embedding_model = tf.keras.Model(text_inputs, pooled_output)\n",
    "sentences1 = tf.constant([\"your text here\"])\n",
    "sentences2 = tf.constant([\"your text here again\"])\n",
    "print(embedding_model([sentences1, sentences2]))"
   ]
  },
  {
   "cell_type": "code",
   "execution_count": null,
   "id": "4398a845-458b-47b2-a530-25ed0c7a98f6",
   "metadata": {},
   "outputs": [],
   "source": []
  }
 ],
 "metadata": {
  "kernelspec": {
   "display_name": "Python 3 (ipykernel)",
   "language": "python",
   "name": "python3"
  },
  "language_info": {
   "codemirror_mode": {
    "name": "ipython",
    "version": 3
   },
   "file_extension": ".py",
   "mimetype": "text/x-python",
   "name": "python",
   "nbconvert_exporter": "python",
   "pygments_lexer": "ipython3",
   "version": "3.9.5"
  }
 },
 "nbformat": 4,
 "nbformat_minor": 5
}
