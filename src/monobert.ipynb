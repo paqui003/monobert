{
 "cells": [
  {
   "cell_type": "markdown",
   "id": "1f564def-acc6-464f-8cfc-6d75a0a4ac9e",
   "metadata": {},
   "source": [
    "# Implementing MonoBERT for re-ranking documents \n",
    "\n",
    "Based on: \n",
    "- Lin, Jimmy, Rodrigo Nogueira, and Andrew Yates. \"Pretrained transformers for text ranking: Bert and beyond.\" Synthesis Lectures on Human Language Technologies 14.4 (2021): 1-325.\n",
    "- Nogueira, Rodrigo, and Kyunghyun Cho. \"Passage Re-ranking with BERT.\" arXiv preprint arXiv:1901.04085 (2019)."
   ]
  },
  {
   "cell_type": "markdown",
   "id": "bdca582a-8f8f-4dc6-9bec-f8369b5ee0d5",
   "metadata": {},
   "source": [
    "Implementation sources:\n",
    "\n",
    "- Relevance-Score: https://radimrehurek.com/gensim_3.8.3/summarization/bm25.html (important: note the version 3.8.3 as gensim removed bm25 scoring in later versions)\n",
    "- Using BERT with tensorflow-hub: https://www.tensorflow.org/text/tutorials/classify_text_with_bert\n",
    "- Fine-tuning BERT: https://www.tensorflow.org/text/tutorials/fine_tune_bert (outdated)\n",
    "- Preprocessing and Loading: https://tfhub.dev/tensorflow/bert_en_uncased_preprocess/3 and https://tfhub.dev/tensorflow/bert_en_uncased_L-12_H-768_A-12/4\n",
    "\n",
    "- BERT-model: https://tfhub.dev/tensorflow/bert_en_uncased_L-12_H-768_A-12/4"
   ]
  },
  {
   "cell_type": "markdown",
   "id": "3d6307ff-c50e-40ff-9a11-3aa782c0cc96",
   "metadata": {},
   "source": [
    "Additional notes:\n",
    "- For finetuning BERT the authors choose an equal number of negative instances from the training set\n",
    "- For re-ranking 1000 documents are retrieved with the initial retrieval"
   ]
  },
  {
   "cell_type": "code",
   "execution_count": 1,
   "id": "27eb31d2-0de4-4907-bf83-d4d5861e1bd3",
   "metadata": {},
   "outputs": [
    {
     "name": "stderr",
     "output_type": "stream",
     "text": [
      "<frozen importlib._bootstrap>:228: RuntimeWarning: scipy._lib.messagestream.MessageStream size changed, may indicate binary incompatibility. Expected 56 from C header, got 64 from PyObject\n",
      "c:\\users\\pascal quindeau\\appdata\\local\\programs\\python\\python39\\lib\\site-packages\\tensorflow_addons\\utils\\ensure_tf_install.py:53: UserWarning: Tensorflow Addons supports using Python ops for all Tensorflow versions above or equal to 2.3.0 and strictly below 2.6.0 (nightly versions are not supported). \n",
      " The versions of TensorFlow you are currently using is 2.8.0 and is not supported. \n",
      "Some things might work, some things might not.\n",
      "If you were to encounter a bug, do not file an issue.\n",
      "If you want to make sure you're using a tested and supported configuration, either change the TensorFlow version or the TensorFlow Addons's version. \n",
      "You can find the compatibility matrix in TensorFlow Addon's readme:\n",
      "https://github.com/tensorflow/addons\n",
      "  warnings.warn(\n"
     ]
    }
   ],
   "source": [
    "import pandas as pd\n",
    "from monobert import *"
   ]
  },
  {
   "cell_type": "markdown",
   "id": "319d2b26-a658-4717-aa74-af1c369f8df0",
   "metadata": {},
   "source": [
    "Read the corpus data and preprocess it according to gensim documentation.  \n",
    "Documents are presented as list of strings. Thus, the corpus is a nested list. "
   ]
  },
  {
   "cell_type": "code",
   "execution_count": 2,
   "id": "c562707e-aa44-427e-b9de-4c71f00ce1d4",
   "metadata": {},
   "outputs": [],
   "source": [
    "docs_df = pd.read_csv(\"../corpus/dev.docs\", delimiter=\"\\t\", header=None, names=[\"docid\", \"text\"])"
   ]
  },
  {
   "cell_type": "code",
   "execution_count": 3,
   "id": "f569f934-1885-4f6d-9eab-3fe6ddf5e10f",
   "metadata": {},
   "outputs": [
    {
     "name": "stdout",
     "output_type": "stream",
     "text": [
      "Initilizing BM25 based Retrieval System...\n",
      "Finished.\n",
      "\n",
      "Corpus size: 3193\n",
      "Avg. document len: 146.26\n",
      "Avg. idf: 6.89\n",
      "Loading BERT model with tensorflow...\n",
      "BERT model loaded!\n"
     ]
    }
   ],
   "source": [
    "corpus = docs_df[\"text\"].tolist()\n",
    "export_dir = \"../models/mono_bert/\"\n",
    "bm25 = BM25Retrieval(corpus, docs_df[\"docid\"].tolist())\n",
    "monobert = MonoBERT(corpus, docs_df[\"docid\"].tolist(), export_dir, bm25, 50)"
   ]
  },
  {
   "cell_type": "markdown",
   "id": "a4d34b12-6f4a-44eb-8ffd-ea0bccbbcad1",
   "metadata": {},
   "source": [
    "### Load querie data\n",
    "Load the queries \"xyz.titles.queries\" and the groundtruth \"xyz.2-1-0.qrel\"."
   ]
  },
  {
   "cell_type": "code",
   "execution_count": 4,
   "id": "c871754a-000a-457c-8edc-dfa1a8c8383e",
   "metadata": {},
   "outputs": [],
   "source": [
    "queries_df = pd.read_csv(\"../query/dev.titles.queries\", delimiter=\"\\t\", header=None, names=[\"queryid\", \"text\"])\n",
    "relqueries_df = pd.read_csv(\"../qrel/dev.2-1-0.qrel\", delimiter=\"\\t\", header=None, names=[\"queryid\", \"0\", \"docid\", \"rellvl\"])\n",
    "\n",
    "relqueries_df.loc[:, \"rellvl\"] = 1"
   ]
  },
  {
   "cell_type": "code",
   "execution_count": 5,
   "id": "fa144bd8-876b-4573-a222-77e9fee9c0c4",
   "metadata": {
    "tags": []
   },
   "outputs": [],
   "source": [
    "query = queries_df.iloc[0]\n",
    "query_text = query[\"text\"]\n",
    "query_id = query[\"queryid\"]"
   ]
  },
  {
   "cell_type": "code",
   "execution_count": 6,
   "id": "b09a4323-d9d7-408d-9148-b4207c1fd4d3",
   "metadata": {
    "tags": []
   },
   "outputs": [],
   "source": [
    "groundtruth = relqueries_df[relqueries_df[\"queryid\"]==query_id][\"docid\"]\n",
    "groundtruth = set(groundtruth.values)"
   ]
  },
  {
   "cell_type": "code",
   "execution_count": 7,
   "id": "9278ec5f-c32c-4c1e-b9b3-3f65080dd381",
   "metadata": {
    "tags": []
   },
   "outputs": [],
   "source": [
    "ids, scores = monobert.initial_retriever.retrieve_k(query_text, k=45)"
   ]
  },
  {
   "cell_type": "code",
   "execution_count": 8,
   "id": "069d9c73-2a94-4bc0-84ff-957724b22232",
   "metadata": {},
   "outputs": [],
   "source": [
    "from retrieval_metrics import *"
   ]
  },
  {
   "cell_type": "code",
   "execution_count": 10,
   "id": "8bca09c6-49f2-4aa0-878d-ef6a0941727e",
   "metadata": {},
   "outputs": [],
   "source": [
    "scorer = RetrievalScorer(monobert)"
   ]
  },
  {
   "cell_type": "code",
   "execution_count": 11,
   "id": "da95188f-dbb7-4276-b4c1-d88da75c233f",
   "metadata": {},
   "outputs": [
    {
     "data": {
      "text/plain": [
       "'why deep fried foods may cause cancer'"
      ]
     },
     "execution_count": 11,
     "metadata": {},
     "output_type": "execute_result"
    }
   ],
   "source": [
    "query_text"
   ]
  },
  {
   "cell_type": "code",
   "execution_count": 12,
   "id": "3e204e22-a0f3-43b8-87b2-1a89f013d728",
   "metadata": {},
   "outputs": [
    {
     "data": {
      "text/plain": [
       "0.2"
      ]
     },
     "execution_count": 12,
     "metadata": {},
     "output_type": "execute_result"
    }
   ],
   "source": [
    "#precision at k\n",
    "ids, scores = monobert.initial_retriever.retrieve_k(query_text, k=45)\n",
    "groundtruth = relqueries_df[relqueries_df[\"queryid\"]==query_id][\"docid\"]\n",
    "groundtruth = set(groundtruth.values)\n",
    "\n",
    "precision(groundtruth, ids)"
   ]
  },
  {
   "cell_type": "code",
   "execution_count": 13,
   "id": "bf289db8-5afa-4f93-ba73-7c6746b7b673",
   "metadata": {},
   "outputs": [
    {
     "data": {
      "text/plain": [
       "(0.2, 0.1836734693877551, 0.19148936170212766)"
      ]
     },
     "execution_count": 13,
     "metadata": {},
     "output_type": "execute_result"
    }
   ],
   "source": [
    "precision_recall_fscore(groundtruth, ids)"
   ]
  },
  {
   "cell_type": "code",
   "execution_count": 14,
   "id": "527460a4-a088-4341-9f49-5e083401deba",
   "metadata": {},
   "outputs": [
    {
     "name": "stdout",
     "output_type": "stream",
     "text": [
      "Initial Retrieval...\n",
      "['MED-2418', 'MED-2195', 'MED-4070', 'MED-2185', 'MED-5033', 'MED-4976', 'MED-708', 'MED-4053', 'MED-4818', 'MED-4878', 'MED-2697', 'MED-1109', 'MED-1165', 'MED-1208', 'MED-3498', 'MED-2421', 'MED-2201', 'MED-5088', 'MED-4072', 'MED-5105', 'MED-1564', 'MED-4898', 'MED-2438', 'MED-1151', 'MED-3699', 'MED-4978', 'MED-4349', 'MED-5142', 'MED-4024', 'MED-2797', 'MED-2420', 'MED-2176', 'MED-1565', 'MED-5089', 'MED-4440', 'MED-4786', 'MED-3553', 'MED-3722', 'MED-5086', 'MED-2194', 'MED-4212', 'MED-2494', 'MED-1467', 'MED-4030', 'MED-1196', 'MED-4299', 'MED-5076', 'MED-3849', 'MED-5183', 'MED-1103'] (14.279703055168344, 13.8121919805223, 12.928584187105121, 11.899066260974287, 10.35737497400919, 9.671366724175448, 9.286288027652292, 9.102348689419559, 8.500304826835558, 8.330847393962047, 7.847780594606345, 7.717370277101566, 7.570026939238266, 7.5451062881858055, 7.520349177129243, 7.409978384907653, 7.347776639367393, 7.187807981549968, 6.635561449916934, 6.588972944674858, 6.552104839813797, 6.494760266014493, 6.444013971895954, 6.36940237418243, 6.3441516527137995, 6.3407629612191405, 6.227926782996075, 6.056546404809141, 6.043598137767665, 6.016669907473329, 6.0099760605036545, 5.970785923113413, 5.9463798901688065, 5.748955402294008, 5.714958245532008, 5.648391163280689, 5.5735968742453315, 5.5233017190412, 5.474525354737089, 5.468334297748916, 5.427500850074011, 5.411414234329159, 5.39504927737506, 5.33393726825039, 5.32990987526481, 5.2816713155346715, 5.226001253909518, 5.207171909452795, 5.195353409343509, 5.161794605750268)\n",
      "After BERT...\n",
      "('MED-5033', 'MED-2418', 'MED-2176', 'MED-4070', 'MED-2185', 'MED-708', 'MED-1109', 'MED-2194', 'MED-2195', 'MED-2421', 'MED-4818', 'MED-4072', 'MED-4976', 'MED-4053', 'MED-1196', 'MED-5088', 'MED-4978', 'MED-1208', 'MED-2201', 'MED-1151', 'MED-4440', 'MED-4878', 'MED-5105', 'MED-3722', 'MED-1103', 'MED-4898', 'MED-2494', 'MED-4024', 'MED-5076', 'MED-3498', 'MED-3553', 'MED-1165', 'MED-1565', 'MED-4030', 'MED-2438', 'MED-5086', 'MED-4212', 'MED-4299', 'MED-2420', 'MED-1564', 'MED-5183', 'MED-5089', 'MED-4786', 'MED-2697', 'MED-3699', 'MED-3849', 'MED-4349', 'MED-5142', 'MED-2797', 'MED-1467') (0.9892669320106506, 0.9877183437347412, 0.9863827228546143, 0.9862232208251953, 0.9803014397621155, 0.9791430234909058, 0.9771043062210083, 0.9759024977684021, 0.9757089614868164, 0.975145697593689, 0.9749606847763062, 0.9740648865699768, 0.9733579158782959, 0.9732829332351685, 0.9732570648193359, 0.9727150201797485, 0.9724336862564087, 0.9714858531951904, 0.9675384759902954, 0.9675157070159912, 0.9642510414123535, 0.9632928371429443, 0.9620203971862793, 0.9618242979049683, 0.958656907081604, 0.9538253545761108, 0.9533458948135376, 0.9523340463638306, 0.951529860496521, 0.9479876756668091, 0.945550799369812, 0.9448506832122803, 0.942933201789856, 0.9336668252944946, 0.9315899610519409, 0.9315546751022339, 0.9307998418807983, 0.9294174909591675, 0.9277719259262085, 0.9173918962478638, 0.9137994647026062, 0.9127365946769714, 0.9070676565170288, 0.9019441604614258, 0.8910330533981323, 0.8812370300292969, 0.8635953664779663, 0.4959692358970642, 0.44216930866241455, 0.2862112522125244)\n"
     ]
    },
    {
     "data": {
      "text/plain": [
       "(('MED-5033',\n",
       "  'MED-2418',\n",
       "  'MED-2176',\n",
       "  'MED-4070',\n",
       "  'MED-2185',\n",
       "  'MED-708',\n",
       "  'MED-1109',\n",
       "  'MED-2194',\n",
       "  'MED-2195',\n",
       "  'MED-2421'),\n",
       " (0.9892669320106506,\n",
       "  0.9877183437347412,\n",
       "  0.9863827228546143,\n",
       "  0.9862232208251953,\n",
       "  0.9803014397621155,\n",
       "  0.9791430234909058,\n",
       "  0.9771043062210083,\n",
       "  0.9759024977684021,\n",
       "  0.9757089614868164,\n",
       "  0.975145697593689))"
      ]
     },
     "execution_count": 14,
     "metadata": {},
     "output_type": "execute_result"
    }
   ],
   "source": [
    "monobert.retrieve_k(query_text, k=10)"
   ]
  },
  {
   "cell_type": "code",
   "execution_count": 15,
   "id": "88bbc631-649d-41ba-9f90-23d7a2746c03",
   "metadata": {},
   "outputs": [
    {
     "name": "stdout",
     "output_type": "stream",
     "text": [
      "Initial Retrieval...\n",
      "['MED-2418', 'MED-2195', 'MED-4070', 'MED-2185', 'MED-5033', 'MED-4976', 'MED-708', 'MED-4053', 'MED-4818', 'MED-4878', 'MED-2697', 'MED-1109', 'MED-1165', 'MED-1208', 'MED-3498', 'MED-2421', 'MED-2201', 'MED-5088', 'MED-4072', 'MED-5105', 'MED-1564', 'MED-4898', 'MED-2438', 'MED-1151', 'MED-3699', 'MED-4978', 'MED-4349', 'MED-5142', 'MED-4024', 'MED-2797', 'MED-2420', 'MED-2176', 'MED-1565', 'MED-5089', 'MED-4440', 'MED-4786', 'MED-3553', 'MED-3722', 'MED-5086', 'MED-2194', 'MED-4212', 'MED-2494', 'MED-1467', 'MED-4030', 'MED-1196', 'MED-4299', 'MED-5076', 'MED-3849', 'MED-5183', 'MED-1103'] (14.279703055168344, 13.8121919805223, 12.928584187105121, 11.899066260974287, 10.35737497400919, 9.671366724175448, 9.286288027652292, 9.102348689419559, 8.500304826835558, 8.330847393962047, 7.847780594606345, 7.717370277101566, 7.570026939238266, 7.5451062881858055, 7.520349177129243, 7.409978384907653, 7.347776639367393, 7.187807981549968, 6.635561449916934, 6.588972944674858, 6.552104839813797, 6.494760266014493, 6.444013971895954, 6.36940237418243, 6.3441516527137995, 6.3407629612191405, 6.227926782996075, 6.056546404809141, 6.043598137767665, 6.016669907473329, 6.0099760605036545, 5.970785923113413, 5.9463798901688065, 5.748955402294008, 5.714958245532008, 5.648391163280689, 5.5735968742453315, 5.5233017190412, 5.474525354737089, 5.468334297748916, 5.427500850074011, 5.411414234329159, 5.39504927737506, 5.33393726825039, 5.32990987526481, 5.2816713155346715, 5.226001253909518, 5.207171909452795, 5.195353409343509, 5.161794605750268)\n",
      "After BERT...\n",
      "('MED-5033', 'MED-2418', 'MED-2176', 'MED-4070', 'MED-2185', 'MED-708', 'MED-1109', 'MED-2194', 'MED-2195', 'MED-2421', 'MED-4818', 'MED-4072', 'MED-4976', 'MED-4053', 'MED-1196', 'MED-5088', 'MED-4978', 'MED-1208', 'MED-2201', 'MED-1151', 'MED-4440', 'MED-4878', 'MED-5105', 'MED-3722', 'MED-1103', 'MED-4898', 'MED-2494', 'MED-4024', 'MED-5076', 'MED-3498', 'MED-3553', 'MED-1165', 'MED-1565', 'MED-4030', 'MED-2438', 'MED-5086', 'MED-4212', 'MED-4299', 'MED-2420', 'MED-1564', 'MED-5183', 'MED-5089', 'MED-4786', 'MED-2697', 'MED-3699', 'MED-3849', 'MED-4349', 'MED-5142', 'MED-2797', 'MED-1467') (0.9892669320106506, 0.9877183437347412, 0.9863827228546143, 0.9862232208251953, 0.9803014397621155, 0.9791430234909058, 0.9771043062210083, 0.9759024977684021, 0.9757089614868164, 0.975145697593689, 0.9749606847763062, 0.9740648865699768, 0.9733579158782959, 0.9732829332351685, 0.9732570648193359, 0.9727150201797485, 0.9724336862564087, 0.9714858531951904, 0.9675384759902954, 0.9675157070159912, 0.9642510414123535, 0.9632928371429443, 0.9620203971862793, 0.9618242979049683, 0.958656907081604, 0.9538253545761108, 0.9533458948135376, 0.9523340463638306, 0.951529860496521, 0.9479876756668091, 0.945550799369812, 0.9448506832122803, 0.942933201789856, 0.9336668252944946, 0.9315899610519409, 0.9315546751022339, 0.9307998418807983, 0.9294174909591675, 0.9277719259262085, 0.9173918962478638, 0.9137994647026062, 0.9127365946769714, 0.9070676565170288, 0.9019441604614258, 0.8910330533981323, 0.8812370300292969, 0.8635953664779663, 0.4959692358970642, 0.44216930866241455, 0.2862112522125244)\n"
     ]
    },
    {
     "data": {
      "text/plain": [
       "0.1836734693877551"
      ]
     },
     "execution_count": 15,
     "metadata": {},
     "output_type": "execute_result"
    }
   ],
   "source": [
    "scorer.rPrecision(groundtruth, query_text)"
   ]
  },
  {
   "cell_type": "code",
   "execution_count": 16,
   "id": "992e30c4-e61e-46ea-a5a9-2bccc396d8eb",
   "metadata": {},
   "outputs": [
    {
     "name": "stdout",
     "output_type": "stream",
     "text": [
      "Initial Retrieval...\n",
      "['MED-2418', 'MED-2195', 'MED-4070', 'MED-2185', 'MED-5033', 'MED-4976', 'MED-708', 'MED-4053', 'MED-4818', 'MED-4878', 'MED-2697', 'MED-1109', 'MED-1165', 'MED-1208', 'MED-3498', 'MED-2421', 'MED-2201', 'MED-5088', 'MED-4072', 'MED-5105', 'MED-1564', 'MED-4898', 'MED-2438', 'MED-1151', 'MED-3699', 'MED-4978', 'MED-4349', 'MED-5142', 'MED-4024', 'MED-2797', 'MED-2420', 'MED-2176', 'MED-1565', 'MED-5089', 'MED-4440', 'MED-4786', 'MED-3553', 'MED-3722', 'MED-5086', 'MED-2194', 'MED-4212', 'MED-2494', 'MED-1467', 'MED-4030', 'MED-1196', 'MED-4299', 'MED-5076', 'MED-3849', 'MED-5183', 'MED-1103'] (14.279703055168344, 13.8121919805223, 12.928584187105121, 11.899066260974287, 10.35737497400919, 9.671366724175448, 9.286288027652292, 9.102348689419559, 8.500304826835558, 8.330847393962047, 7.847780594606345, 7.717370277101566, 7.570026939238266, 7.5451062881858055, 7.520349177129243, 7.409978384907653, 7.347776639367393, 7.187807981549968, 6.635561449916934, 6.588972944674858, 6.552104839813797, 6.494760266014493, 6.444013971895954, 6.36940237418243, 6.3441516527137995, 6.3407629612191405, 6.227926782996075, 6.056546404809141, 6.043598137767665, 6.016669907473329, 6.0099760605036545, 5.970785923113413, 5.9463798901688065, 5.748955402294008, 5.714958245532008, 5.648391163280689, 5.5735968742453315, 5.5233017190412, 5.474525354737089, 5.468334297748916, 5.427500850074011, 5.411414234329159, 5.39504927737506, 5.33393726825039, 5.32990987526481, 5.2816713155346715, 5.226001253909518, 5.207171909452795, 5.195353409343509, 5.161794605750268)\n",
      "After BERT...\n",
      "('MED-5033', 'MED-2418', 'MED-2176', 'MED-4070', 'MED-2185', 'MED-708', 'MED-1109', 'MED-2194', 'MED-2195', 'MED-2421', 'MED-4818', 'MED-4072', 'MED-4976', 'MED-4053', 'MED-1196', 'MED-5088', 'MED-4978', 'MED-1208', 'MED-2201', 'MED-1151', 'MED-4440', 'MED-4878', 'MED-5105', 'MED-3722', 'MED-1103', 'MED-4898', 'MED-2494', 'MED-4024', 'MED-5076', 'MED-3498', 'MED-3553', 'MED-1165', 'MED-1565', 'MED-4030', 'MED-2438', 'MED-5086', 'MED-4212', 'MED-4299', 'MED-2420', 'MED-1564', 'MED-5183', 'MED-5089', 'MED-4786', 'MED-2697', 'MED-3699', 'MED-3849', 'MED-4349', 'MED-5142', 'MED-2797', 'MED-1467') (0.9892669320106506, 0.9877183437347412, 0.9863827228546143, 0.9862232208251953, 0.9803014397621155, 0.9791430234909058, 0.9771043062210083, 0.9759024977684021, 0.9757089614868164, 0.975145697593689, 0.9749606847763062, 0.9740648865699768, 0.9733579158782959, 0.9732829332351685, 0.9732570648193359, 0.9727150201797485, 0.9724336862564087, 0.9714858531951904, 0.9675384759902954, 0.9675157070159912, 0.9642510414123535, 0.9632928371429443, 0.9620203971862793, 0.9618242979049683, 0.958656907081604, 0.9538253545761108, 0.9533458948135376, 0.9523340463638306, 0.951529860496521, 0.9479876756668091, 0.945550799369812, 0.9448506832122803, 0.942933201789856, 0.9336668252944946, 0.9315899610519409, 0.9315546751022339, 0.9307998418807983, 0.9294174909591675, 0.9277719259262085, 0.9173918962478638, 0.9137994647026062, 0.9127365946769714, 0.9070676565170288, 0.9019441604614258, 0.8910330533981323, 0.8812370300292969, 0.8635953664779663, 0.4959692358970642, 0.44216930866241455, 0.2862112522125244)\n"
     ]
    },
    {
     "data": {
      "text/plain": [
       "(0.07386363636363637,\n",
       " array([0. , 0.1, 0.2, 0.3, 0.4, 0.5, 0.6, 0.7, 0.8, 0.9, 1. ]),\n",
       " 0     0.5000\n",
       " 1     0.3125\n",
       " 2     0.0000\n",
       " 3     0.0000\n",
       " 4     0.0000\n",
       " 5     0.0000\n",
       " 6     0.0000\n",
       " 7     0.0000\n",
       " 8     0.0000\n",
       " 9     0.0000\n",
       " 10    0.0000\n",
       " dtype: float64)"
      ]
     },
     "execution_count": 16,
     "metadata": {},
     "output_type": "execute_result"
    }
   ],
   "source": [
    "scorer.aveP(query_text, groundtruth)"
   ]
  },
  {
   "cell_type": "code",
   "execution_count": 16,
   "id": "da2a5f4c-ec82-4efa-9a30-b189ac86f326",
   "metadata": {},
   "outputs": [
    {
     "name": "stdout",
     "output_type": "stream",
     "text": [
      "('MED-3461', 'MED-4829', 'MED-4828', 'MED-2300', 'MED-3453', 'MED-5233', 'MED-2704', 'MED-3460', 'MED-4830', 'MED-4315', 'MED-3171', 'MED-4405', 'MED-3534', 'MED-4747', 'MED-1460', 'MED-1569', 'MED-3462', 'MED-3220', 'MED-3235', 'MED-1750', 'MED-3459', 'MED-3231', 'MED-1466', 'MED-2271', 'MED-1752', 'MED-1470', 'MED-3466', 'MED-1474', 'MED-4961', 'MED-3465', 'MED-1491', 'MED-1472', 'MED-4626', 'MED-1457', 'MED-1473', 'MED-3165', 'MED-4399', 'MED-4874', 'MED-2982', 'MED-1236', 'MED-1467', 'MED-1465', 'MED-5110', 'MED-1458', 'MED-3593', 'MED-1459', 'MED-4746', 'MED-3024', 'MED-4966', 'MED-4937') (0.9504196643829346, 0.9270719885826111, 0.9228737354278564, 0.9203592538833618, 0.91777503490448, 0.9146037101745605, 0.9144027829170227, 0.914323091506958, 0.9084426164627075, 0.9080778956413269, 0.9057374596595764, 0.9046251773834229, 0.9040288925170898, 0.8948942422866821, 0.892023503780365, 0.8913775682449341, 0.8887010812759399, 0.8864936232566833, 0.8864936232566833, 0.8856745958328247, 0.8808108568191528, 0.8801816701889038, 0.8771666288375854, 0.8732835054397583, 0.8576783537864685, 0.8521703481674194, 0.8518698215484619, 0.8470289707183838, 0.8417956829071045, 0.8332077264785767, 0.8294715881347656, 0.8270593881607056, 0.8270068168640137, 0.8067848682403564, 0.7695276737213135, 0.7691963315010071, 0.7657812833786011, 0.7650719285011292, 0.7635195255279541, 0.7599369287490845, 0.7594197392463684, 0.7551945447921753, 0.738162636756897, 0.7194116115570068, 0.7131826877593994, 0.713053286075592, 0.6879758834838867, 0.6587073802947998, 0.5480327606201172, 0.4812716543674469)\n",
      "('MED-4107', 'MED-3718', 'MED-5101', 'MED-2765', 'MED-1553', 'MED-2220', 'MED-2717', 'MED-2587', 'MED-1708', 'MED-1558', 'MED-2295', 'MED-1363', 'MED-4831', 'MED-1991', 'MED-1334', 'MED-1149', 'MED-3944', 'MED-1234', 'MED-3699', 'MED-4255', 'MED-4613', 'MED-1302', 'MED-1559', 'MED-1565', 'MED-4313', 'MED-2994', 'MED-919', 'MED-1240', 'MED-4389', 'MED-4535', 'MED-5066', 'MED-1513', 'MED-1445', 'MED-4370', 'MED-1885', 'MED-3618', 'MED-2525', 'MED-3832', 'MED-2448', 'MED-1428', 'MED-1667', 'MED-3800', 'MED-3601', 'MED-3692', 'MED-4328', 'MED-4236', 'MED-3693', 'MED-1998', 'MED-2800', 'MED-3386') (0.9805569648742676, 0.9799875617027283, 0.9797884225845337, 0.9797754883766174, 0.9788641929626465, 0.978346586227417, 0.9778581261634827, 0.9776782989501953, 0.9776041507720947, 0.9772440791130066, 0.976883590221405, 0.9766994714736938, 0.9766345024108887, 0.9749244451522827, 0.9741359949111938, 0.9738794565200806, 0.9738091230392456, 0.9713438749313354, 0.9711513519287109, 0.9708805084228516, 0.9708805084228516, 0.9707335233688354, 0.9705333709716797, 0.9698386788368225, 0.9689620733261108, 0.9684556722640991, 0.9681008458137512, 0.9679630398750305, 0.9676543474197388, 0.9675166606903076, 0.9667156338691711, 0.9657108187675476, 0.9654111266136169, 0.9636170268058777, 0.9607219696044922, 0.9599648118019104, 0.9570310115814209, 0.9566248059272766, 0.9541621208190918, 0.9507594108581543, 0.9390925168991089, 0.9378430843353271, 0.9370512366294861, 0.9318327903747559, 0.9277079105377197, 0.9275882244110107, 0.9242342710494995, 0.921301007270813, 0.9087255001068115, 0.9072091579437256)\n",
      "('MED-3604', 'MED-3619', 'MED-3615', 'MED-3636', 'MED-3607', 'MED-3379', 'MED-859', 'MED-4548', 'MED-3527', 'MED-3610', 'MED-1834', 'MED-3608', 'MED-3618', 'MED-3623', 'MED-3609', 'MED-3621', 'MED-3606', 'MED-3630', 'MED-2707', 'MED-1603', 'MED-2652', 'MED-5127', 'MED-4884', 'MED-3302', 'MED-2711', 'MED-3288', 'MED-2940', 'MED-3308', 'MED-2882', 'MED-4038', 'MED-3624', 'MED-3620', 'MED-2885', 'MED-2394', 'MED-2513', 'MED-3319', 'MED-1147', 'MED-4918', 'MED-3444', 'MED-3590', 'MED-3386', 'MED-3282', 'MED-5033', 'MED-2471', 'MED-4594', 'MED-2405', 'MED-4815', 'MED-2410', 'MED-4176', 'MED-3888') (0.9874687194824219, 0.9863573312759399, 0.9853509664535522, 0.9846782684326172, 0.9839920997619629, 0.9839552044868469, 0.9833749532699585, 0.9832555055618286, 0.9829723834991455, 0.9827193021774292, 0.9823262095451355, 0.9820716381072998, 0.9804972410202026, 0.9803627729415894, 0.9797587394714355, 0.9790658950805664, 0.9768755435943604, 0.9731959104537964, 0.968213677406311, 0.9670108556747437, 0.9669606685638428, 0.9659605026245117, 0.9645238518714905, 0.9639990329742432, 0.9612525701522827, 0.9600881338119507, 0.9578937292098999, 0.9551401734352112, 0.954941987991333, 0.9543148279190063, 0.9510871171951294, 0.9508255124092102, 0.9488635063171387, 0.9439947009086609, 0.9420425891876221, 0.9349672794342041, 0.9229363203048706, 0.901725172996521, 0.8935849070549011, 0.8901875615119934, 0.881733775138855, 0.8807743787765503, 0.8746365904808044, 0.8576991558074951, 0.8445279598236084, 0.7828470468521118, 0.7823939323425293, 0.7548425197601318, 0.7222087383270264, 0.7002698183059692)\n"
     ]
    },
    {
     "data": {
      "text/plain": [
       "0.10294691956133963"
      ]
     },
     "execution_count": 16,
     "metadata": {},
     "output_type": "execute_result"
    }
   ],
   "source": [
    "queries = [\"PLAIN-1666\", \"PLAIN-1027\", \"PLAIN-142\"]\n",
    "groundtruths = [set(relqueries_df[relqueries_df[\"queryid\"]==query_id][\"docid\"].tolist()) for query_id in queries]\n",
    "queries = [queries_df[queries_df[\"queryid\"]==query_id][\"text\"].tolist()[0] for query_id in queries]\n",
    "scorer.MAP(queries, groundtruths=groundtruths)"
   ]
  },
  {
   "cell_type": "code",
   "execution_count": 18,
   "id": "138d28c2-d246-4977-9457-9afdb066e6bd",
   "metadata": {
    "tags": []
   },
   "outputs": [
    {
     "name": "stdout",
     "output_type": "stream",
     "text": [
      "why deep fried foods may cause cancer\n",
      "Initial Retrieval...\n",
      "['MED-2418', 'MED-2195', 'MED-4070', 'MED-2185', 'MED-5033', 'MED-4976', 'MED-708', 'MED-4053', 'MED-4818', 'MED-4878', 'MED-2697', 'MED-1109', 'MED-1165', 'MED-1208', 'MED-3498', 'MED-2421', 'MED-2201', 'MED-5088', 'MED-4072', 'MED-5105', 'MED-1564', 'MED-4898', 'MED-2438', 'MED-1151', 'MED-3699', 'MED-4978', 'MED-4349', 'MED-5142', 'MED-4024', 'MED-2797', 'MED-2420', 'MED-2176', 'MED-1565', 'MED-5089', 'MED-4440', 'MED-4786', 'MED-3553', 'MED-3722', 'MED-5086', 'MED-2194', 'MED-4212', 'MED-2494', 'MED-1467', 'MED-4030', 'MED-1196', 'MED-4299', 'MED-5076', 'MED-3849', 'MED-5183', 'MED-1103'] (14.279703055168344, 13.8121919805223, 12.928584187105121, 11.899066260974287, 10.35737497400919, 9.671366724175448, 9.286288027652292, 9.102348689419559, 8.500304826835558, 8.330847393962047, 7.847780594606345, 7.717370277101566, 7.570026939238266, 7.5451062881858055, 7.520349177129243, 7.409978384907653, 7.347776639367393, 7.187807981549968, 6.635561449916934, 6.588972944674858, 6.552104839813797, 6.494760266014493, 6.444013971895954, 6.36940237418243, 6.3441516527137995, 6.3407629612191405, 6.227926782996075, 6.056546404809141, 6.043598137767665, 6.016669907473329, 6.0099760605036545, 5.970785923113413, 5.9463798901688065, 5.748955402294008, 5.714958245532008, 5.648391163280689, 5.5735968742453315, 5.5233017190412, 5.474525354737089, 5.468334297748916, 5.427500850074011, 5.411414234329159, 5.39504927737506, 5.33393726825039, 5.32990987526481, 5.2816713155346715, 5.226001253909518, 5.207171909452795, 5.195353409343509, 5.161794605750268)\n",
      "After BERT...\n",
      "('MED-5033', 'MED-2418', 'MED-2176', 'MED-4070', 'MED-2185', 'MED-708', 'MED-1109', 'MED-2194', 'MED-2195', 'MED-2421', 'MED-4818', 'MED-4072', 'MED-4976', 'MED-4053', 'MED-1196', 'MED-5088', 'MED-4978', 'MED-1208', 'MED-2201', 'MED-1151', 'MED-4440', 'MED-4878', 'MED-5105', 'MED-3722', 'MED-1103', 'MED-4898', 'MED-2494', 'MED-4024', 'MED-5076', 'MED-3498', 'MED-3553', 'MED-1165', 'MED-1565', 'MED-4030', 'MED-2438', 'MED-5086', 'MED-4212', 'MED-4299', 'MED-2420', 'MED-1564', 'MED-5183', 'MED-5089', 'MED-4786', 'MED-2697', 'MED-3699', 'MED-3849', 'MED-4349', 'MED-5142', 'MED-2797', 'MED-1467') (0.9892669320106506, 0.9877183437347412, 0.9863827228546143, 0.9862232208251953, 0.9803014397621155, 0.9791430234909058, 0.9771043062210083, 0.9759024977684021, 0.9757089614868164, 0.975145697593689, 0.9749606847763062, 0.9740648865699768, 0.9733579158782959, 0.9732829332351685, 0.9732570648193359, 0.9727150201797485, 0.9724336862564087, 0.9714858531951904, 0.9675384759902954, 0.9675157070159912, 0.9642510414123535, 0.9632928371429443, 0.9620203971862793, 0.9618242979049683, 0.958656907081604, 0.9538253545761108, 0.9533458948135376, 0.9523340463638306, 0.951529860496521, 0.9479876756668091, 0.945550799369812, 0.9448506832122803, 0.942933201789856, 0.9336668252944946, 0.9315899610519409, 0.9315546751022339, 0.9307998418807983, 0.9294174909591675, 0.9277719259262085, 0.9173918962478638, 0.9137994647026062, 0.9127365946769714, 0.9070676565170288, 0.9019441604614258, 0.8910330533981323, 0.8812370300292969, 0.8635953664779663, 0.4959692358970642, 0.44216930866241455, 0.2862112522125244)\n"
     ]
    }
   ],
   "source": [
    "groundtruth = relqueries_df[relqueries_df[\"queryid\"]==\"PLAIN-142\"][\"docid\"]\n",
    "groundtruth = set(groundtruth.values)\n",
    "print(query_text)\n",
    "_map, recalls, precisions = scorer.aveP(query_text, groundtruth)"
   ]
  },
  {
   "cell_type": "code",
   "execution_count": 19,
   "id": "9d907eab-dfa8-48bb-b445-69e613e17d27",
   "metadata": {},
   "outputs": [
    {
     "data": {
      "text/plain": [
       "Text(0, 0.5, 'Precision')"
      ]
     },
     "execution_count": 19,
     "metadata": {},
     "output_type": "execute_result"
    },
    {
     "data": {
      "image/png": "[encoded data removed]",
      "text/plain": [
       "<Figure size 432x288 with 1 Axes>"
      ]
     },
     "metadata": {
      "needs_background": "light"
     },
     "output_type": "display_data"
    }
   ],
   "source": [
    "from matplotlib import pyplot as plt \n",
    "plt.plot(recalls, precisions)\n",
    "plt.xlabel(\"Recall\")\n",
    "plt.ylabel(\"Precision\")"
   ]
  },
  {
   "cell_type": "code",
   "execution_count": null,
   "id": "0fe1b45d-9765-4969-92f6-bb35bfb9fbf0",
   "metadata": {},
   "outputs": [],
   "source": []
  }
 ],
 "metadata": {
  "kernelspec": {
   "display_name": "Python 3",
   "language": "python",
   "name": "python3"
  },
  "language_info": {
   "codemirror_mode": {
    "name": "ipython",
    "version": 3
   },
   "file_extension": ".py",
   "mimetype": "text/x-python",
   "name": "python",
   "nbconvert_exporter": "python",
   "pygments_lexer": "ipython3",
   "version": "3.7.3"
  }
 },
 "nbformat": 4,
 "nbformat_minor": 5
}
