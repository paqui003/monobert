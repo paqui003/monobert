{
 "cells": [
  {
   "cell_type": "markdown",
   "id": "54dba3a8-8eb2-4e06-b87c-6fe4c117c367",
   "metadata": {},
   "source": [
    "# Finetuning a BERT model for document classification based on MonoBERT"
   ]
  },
  {
   "cell_type": "markdown",
   "id": "a97fdae4-6fe7-4237-ac98-38f22ee46e68",
   "metadata": {},
   "source": [
    "### Packages installieren"
   ]
  },
  {
   "cell_type": "code",
   "execution_count": 1,
   "id": "2KstLXhgAdnv",
   "metadata": {
    "colab": {
     "base_uri": "https://localhost:8080/"
    },
    "id": "2KstLXhgAdnv",
    "outputId": "73976bd8-f0dd-40ee-e0d3-015791854e38"
   },
   "outputs": [
    {
     "name": "stdout",
     "output_type": "stream",
     "text": [
      "\u001b[K     |████████████████████████████████| 4.9 MB 3.9 MB/s \n",
      "\u001b[K     |████████████████████████████████| 462 kB 48.8 MB/s \n",
      "\u001b[K     |████████████████████████████████| 1.8 MB 4.3 MB/s \n",
      "\u001b[K     |████████████████████████████████| 1.2 MB 43.7 MB/s \n",
      "\u001b[K     |████████████████████████████████| 43 kB 1.4 MB/s \n",
      "\u001b[K     |████████████████████████████████| 99 kB 4.0 MB/s \n",
      "\u001b[K     |████████████████████████████████| 1.1 MB 32.0 MB/s \n",
      "\u001b[K     |████████████████████████████████| 90 kB 3.9 MB/s \n",
      "\u001b[K     |████████████████████████████████| 596 kB 37.0 MB/s \n",
      "\u001b[K     |████████████████████████████████| 47.8 MB 10.7 MB/s \n",
      "\u001b[K     |████████████████████████████████| 352 kB 34.9 MB/s \n",
      "\u001b[K     |████████████████████████████████| 237 kB 34.5 MB/s \n",
      "\u001b[?25h  Building wheel for py-cpuinfo (setup.py) ... \u001b[?25l\u001b[?25hdone\n",
      "  Building wheel for seqeval (setup.py) ... \u001b[?25l\u001b[?25hdone\n"
     ]
    }
   ],
   "source": [
    "# Nur in der Colab-Umgebung ausführen\n",
    "\n",
    "#!pip install -q -U \"tensorflow-text==2.8.*\"\n",
    "#!pip install -q tf-models-official==2.7.0"
   ]
  },
  {
   "cell_type": "code",
   "execution_count": 2,
   "id": "45c000b5-431c-4f01-b1cc-7d5e4b5c284f",
   "metadata": {
    "id": "45c000b5-431c-4f01-b1cc-7d5e4b5c284f"
   },
   "outputs": [
    {
     "name": "stderr",
     "output_type": "stream",
     "text": [
      "c:\\users\\pascal quindeau\\appdata\\local\\programs\\python\\python39\\lib\\site-packages\\tensorflow_addons\\utils\\ensure_tf_install.py:53: UserWarning: Tensorflow Addons supports using Python ops for all Tensorflow versions above or equal to 2.3.0 and strictly below 2.6.0 (nightly versions are not supported). \n",
      " The versions of TensorFlow you are currently using is 2.8.0 and is not supported. \n",
      "Some things might work, some things might not.\n",
      "If you were to encounter a bug, do not file an issue.\n",
      "If you want to make sure you're using a tested and supported configuration, either change the TensorFlow version or the TensorFlow Addons's version. \n",
      "You can find the compatibility matrix in TensorFlow Addon's readme:\n",
      "https://github.com/tensorflow/addons\n",
      "  warnings.warn(\n"
     ]
    }
   ],
   "source": [
    "import os\n",
    "\n",
    "import numpy as np\n",
    "import matplotlib.pyplot as plt\n",
    "import pandas as pd\n",
    "\n",
    "import tensorflow as tf\n",
    "\n",
    "import tensorflow_hub as hub\n",
    "\n",
    "from official.modeling import tf_utils\n",
    "from official import nlp\n",
    "from official.nlp import bert\n",
    "\n",
    "# Load the required submodules\n",
    "import official.nlp.optimization\n",
    "import official.nlp.bert.bert_models\n",
    "import official.nlp.bert.configs\n",
    "import official.nlp.bert.run_classifier\n",
    "import official.nlp.bert.tokenization\n",
    "import official.nlp.data.classifier_data_lib\n",
    "import official.nlp.modeling.losses\n",
    "import official.nlp.modeling.models\n",
    "import official.nlp.modeling.networks"
   ]
  },
  {
   "cell_type": "code",
   "execution_count": 3,
   "id": "f462acde-92e7-4fc8-8950-3fedd9ad7c7d",
   "metadata": {
    "colab": {
     "base_uri": "https://localhost:8080/"
    },
    "id": "f462acde-92e7-4fc8-8950-3fedd9ad7c7d",
    "outputId": "46a5c67d-de72-48c7-c3e8-fd68707e38b1"
   },
   "outputs": [
    {
     "name": "stdout",
     "output_type": "stream",
     "text": [
      "Num GPUs Available:  0\n"
     ]
    }
   ],
   "source": [
    "print(\"Num GPUs Available: \", len(tf.config.list_physical_devices('GPU')))"
   ]
  },
  {
   "cell_type": "markdown",
   "id": "b14283e8-f37e-4d6b-a15b-20809a921a7d",
   "metadata": {
    "tags": []
   },
   "source": [
    "## Prepare the data"
   ]
  },
  {
   "cell_type": "markdown",
   "id": "f03479cb-d2e2-4a2f-974c-ae53fc8a4f37",
   "metadata": {},
   "source": [
    "Load documents."
   ]
  },
  {
   "cell_type": "code",
   "execution_count": 7,
   "id": "2a7d0a9f-6b78-4440-878f-d0fc551637cf",
   "metadata": {
    "id": "2a7d0a9f-6b78-4440-878f-d0fc551637cf"
   },
   "outputs": [],
   "source": [
    "docs_df = pd.read_csv(\"../corpus/dev.docs\", delimiter=\"\\t\", header=None, names=[\"docid\", \"text\"])"
   ]
  },
  {
   "cell_type": "markdown",
   "id": "814f2889-c7f5-4cd7-8a78-b042ce41b1df",
   "metadata": {
    "id": "814f2889-c7f5-4cd7-8a78-b042ce41b1df"
   },
   "source": [
    "Load the queries \"xyz.titles.queries\" and the groundtruth \"xyz.2-1-0.qrel\"."
   ]
  },
  {
   "cell_type": "code",
   "execution_count": 4,
   "id": "a2c48495-d555-4baf-90a2-317bae2e7d77",
   "metadata": {
    "id": "a2c48495-d555-4baf-90a2-317bae2e7d77"
   },
   "outputs": [],
   "source": [
    "queries_df = pd.read_csv(\"../query/dev.titles.queries\", delimiter=\"\\t\", header=None, names=[\"queryid\", \"text\"])\n",
    "relqueries_df = pd.read_csv(\"../qrel/dev.2-1-0.qrel\", delimiter=\"\\t\", header=None, names=[\"queryid\", \"0\", \"docid\", \"rellvl\"])\n",
    "\n",
    "relqueries_df.loc[:, \"rellvl\"] = 1"
   ]
  },
  {
   "cell_type": "code",
   "execution_count": 5,
   "id": "c08cb965-9c56-4da3-8482-04de3d23d8cd",
   "metadata": {
    "id": "c08cb965-9c56-4da3-8482-04de3d23d8cd"
   },
   "outputs": [],
   "source": [
    "hub_url_bert = \"https://tfhub.dev/tensorflow/bert_en_uncased_L-12_H-768_A-12/3\""
   ]
  },
  {
   "cell_type": "code",
   "execution_count": 8,
   "id": "859a7360-b7e9-4c22-a212-65dd26098663",
   "metadata": {
    "colab": {
     "base_uri": "https://localhost:8080/",
     "height": 424
    },
    "id": "859a7360-b7e9-4c22-a212-65dd26098663",
    "outputId": "92e900c5-2fdb-46e4-f2a3-3dd28f4be607"
   },
   "outputs": [
    {
     "data": {
      "text/html": [
       "<div>\n",
       "<style scoped>\n",
       "    .dataframe tbody tr th:only-of-type {\n",
       "        vertical-align: middle;\n",
       "    }\n",
       "\n",
       "    .dataframe tbody tr th {\n",
       "        vertical-align: top;\n",
       "    }\n",
       "\n",
       "    .dataframe thead th {\n",
       "        text-align: right;\n",
       "    }\n",
       "</style>\n",
       "<table border=\"1\" class=\"dataframe\">\n",
       "  <thead>\n",
       "    <tr style=\"text-align: right;\">\n",
       "      <th></th>\n",
       "      <th>textquery</th>\n",
       "      <th>textdoc</th>\n",
       "      <th>rellvl</th>\n",
       "    </tr>\n",
       "  </thead>\n",
       "  <tbody>\n",
       "    <tr>\n",
       "      <th>0</th>\n",
       "      <td>why deep fried foods may cause cancer</td>\n",
       "      <td>birth weight head circumference prenatal expos...</td>\n",
       "      <td>1</td>\n",
       "    </tr>\n",
       "    <tr>\n",
       "      <th>1</th>\n",
       "      <td>why deep fried foods may cause cancer</td>\n",
       "      <td>statistical regression model estimation acryla...</td>\n",
       "      <td>1</td>\n",
       "    </tr>\n",
       "    <tr>\n",
       "      <th>2</th>\n",
       "      <td>why deep fried foods may cause cancer</td>\n",
       "      <td>chronic intake potato chips humans increases p...</td>\n",
       "      <td>1</td>\n",
       "    </tr>\n",
       "    <tr>\n",
       "      <th>3</th>\n",
       "      <td>why deep fried foods may cause cancer</td>\n",
       "      <td>dietary patterns breast cancer risk women pubm...</td>\n",
       "      <td>1</td>\n",
       "    </tr>\n",
       "    <tr>\n",
       "      <th>4</th>\n",
       "      <td>why deep fried foods may cause cancer</td>\n",
       "      <td>empirically derived dietary patterns risk post...</td>\n",
       "      <td>1</td>\n",
       "    </tr>\n",
       "    <tr>\n",
       "      <th>...</th>\n",
       "      <td>...</td>\n",
       "      <td>...</td>\n",
       "      <td>...</td>\n",
       "    </tr>\n",
       "    <tr>\n",
       "      <th>11380</th>\n",
       "      <td>is kimchi good for you ?</td>\n",
       "      <td>bacterial vaginosis variation dietary indices ...</td>\n",
       "      <td>1</td>\n",
       "    </tr>\n",
       "    <tr>\n",
       "      <th>11381</th>\n",
       "      <td>is kimchi good for you ?</td>\n",
       "      <td>high fat intake leads acute postprandial expos...</td>\n",
       "      <td>1</td>\n",
       "    </tr>\n",
       "    <tr>\n",
       "      <th>11382</th>\n",
       "      <td>is kimchi good for you ?</td>\n",
       "      <td>capacity foodstuffs induce innate immune activ...</td>\n",
       "      <td>1</td>\n",
       "    </tr>\n",
       "    <tr>\n",
       "      <th>11383</th>\n",
       "      <td>is kimchi good for you ?</td>\n",
       "      <td>acute subacute toxicity tyramine spermidine sp...</td>\n",
       "      <td>1</td>\n",
       "    </tr>\n",
       "    <tr>\n",
       "      <th>11384</th>\n",
       "      <td>is kimchi good for you ?</td>\n",
       "      <td>determination biogenic amines korean tradition...</td>\n",
       "      <td>1</td>\n",
       "    </tr>\n",
       "  </tbody>\n",
       "</table>\n",
       "<p>11385 rows × 3 columns</p>\n",
       "</div>"
      ],
      "text/plain": [
       "                                   textquery  \\\n",
       "0      why deep fried foods may cause cancer   \n",
       "1      why deep fried foods may cause cancer   \n",
       "2      why deep fried foods may cause cancer   \n",
       "3      why deep fried foods may cause cancer   \n",
       "4      why deep fried foods may cause cancer   \n",
       "...                                      ...   \n",
       "11380               is kimchi good for you ?   \n",
       "11381               is kimchi good for you ?   \n",
       "11382               is kimchi good for you ?   \n",
       "11383               is kimchi good for you ?   \n",
       "11384               is kimchi good for you ?   \n",
       "\n",
       "                                                 textdoc  rellvl  \n",
       "0      birth weight head circumference prenatal expos...       1  \n",
       "1      statistical regression model estimation acryla...       1  \n",
       "2      chronic intake potato chips humans increases p...       1  \n",
       "3      dietary patterns breast cancer risk women pubm...       1  \n",
       "4      empirically derived dietary patterns risk post...       1  \n",
       "...                                                  ...     ...  \n",
       "11380  bacterial vaginosis variation dietary indices ...       1  \n",
       "11381  high fat intake leads acute postprandial expos...       1  \n",
       "11382  capacity foodstuffs induce innate immune activ...       1  \n",
       "11383  acute subacute toxicity tyramine spermidine sp...       1  \n",
       "11384  determination biogenic amines korean tradition...       1  \n",
       "\n",
       "[11385 rows x 3 columns]"
      ]
     },
     "execution_count": 8,
     "metadata": {},
     "output_type": "execute_result"
    }
   ],
   "source": [
    "merged_data = relqueries_df.merge(docs_df, on=\"docid\").merge(queries_df, on=\"queryid\", suffixes=[\"doc\", \"query\"])\n",
    "merged_data = merged_data[[\"textquery\", \"textdoc\", \"rellvl\"]]\n",
    "merged_data"
   ]
  },
  {
   "cell_type": "markdown",
   "id": "095c8c90-d00b-4862-8dd8-0869646668b7",
   "metadata": {},
   "source": [
    "Create negative query examples.  \n",
    "For each relevant document d given a query q return either  \n",
    "a fixed number of negative examples per q or a negative exmpale\n",
    "for each relevant document. "
   ]
  },
  {
   "cell_type": "code",
   "execution_count": 37,
   "id": "6bb8fcf7-6494-46cf-8712-5823838ac69d",
   "metadata": {
    "id": "6bb8fcf7-6494-46cf-8712-5823838ac69d"
   },
   "outputs": [],
   "source": [
    "def negSample(df, query_df, rel_df, n=None):\n",
    "    #q = \"why deep fried foods may cause cancer\"\n",
    "    neg_df = pd.DataFrame(columns=[\"textquery\", \"textdoc\", \"rellvl\"])\n",
    "    for i, q in enumerate(query_df[\"text\"]):\n",
    "        if n:\n",
    "            size = n\n",
    "        else:\n",
    "            size = df[df[\"textquery\"]==q].shape[0]\n",
    "        tmp = df[~ (df[\"textquery\"] == q)][\"textdoc\"]\n",
    "        neg_samples = np.random.choice(tmp, size=size, replace=False)\n",
    "        #print(i)\n",
    "        df_tmp = pd.DataFrame(data={\"textquery\": q,\n",
    "                           \"textdoc\": neg_samples,\n",
    "                           \"rellvl\":0})\n",
    "        neg_df = neg_df.append(df_tmp).copy()\n",
    "    \n",
    "    return neg_df.reset_index(drop=True)"
   ]
  },
  {
   "cell_type": "code",
   "execution_count": 40,
   "id": "2927a11c-d49c-4b9b-bd72-b19f461a596f",
   "metadata": {
    "id": "2927a11c-d49c-4b9b-bd72-b19f461a596f",
    "tags": []
   },
   "outputs": [],
   "source": [
    "negdf = negSample(merged_data, queries_df, relqueries_df, n=None)"
   ]
  },
  {
   "cell_type": "code",
   "execution_count": 14,
   "id": "429f302f-e0c2-469a-b14e-9665d3a6d5ca",
   "metadata": {
    "colab": {
     "base_uri": "https://localhost:8080/",
     "height": 424
    },
    "id": "429f302f-e0c2-469a-b14e-9665d3a6d5ca",
    "outputId": "1bc91f78-6c16-4794-9642-053aa9af6e7a"
   },
   "outputs": [
    {
     "data": {
      "text/html": [
       "\n",
       "  <div id=\"df-3bff54a2-653f-4a80-a99c-bb4192b7a0b7\">\n",
       "    <div class=\"colab-df-container\">\n",
       "      <div>\n",
       "<style scoped>\n",
       "    .dataframe tbody tr th:only-of-type {\n",
       "        vertical-align: middle;\n",
       "    }\n",
       "\n",
       "    .dataframe tbody tr th {\n",
       "        vertical-align: top;\n",
       "    }\n",
       "\n",
       "    .dataframe thead th {\n",
       "        text-align: right;\n",
       "    }\n",
       "</style>\n",
       "<table border=\"1\" class=\"dataframe\">\n",
       "  <thead>\n",
       "    <tr style=\"text-align: right;\">\n",
       "      <th></th>\n",
       "      <th>textquery</th>\n",
       "      <th>textdoc</th>\n",
       "      <th>rellvl</th>\n",
       "    </tr>\n",
       "  </thead>\n",
       "  <tbody>\n",
       "    <tr>\n",
       "      <th>5105</th>\n",
       "      <td>protein , puberty , and pollutants</td>\n",
       "      <td>higher levels igf-i adrenal androgens age num ...</td>\n",
       "      <td>1</td>\n",
       "    </tr>\n",
       "    <tr>\n",
       "      <th>2104</th>\n",
       "      <td>vitamin e</td>\n",
       "      <td>calcified neurocysticercosis patients primary ...</td>\n",
       "      <td>0</td>\n",
       "    </tr>\n",
       "    <tr>\n",
       "      <th>2918</th>\n",
       "      <td>protein and heart disease</td>\n",
       "      <td>one-month strawberry-rich anthocyanin suppleme...</td>\n",
       "      <td>0</td>\n",
       "    </tr>\n",
       "    <tr>\n",
       "      <th>8650</th>\n",
       "      <td>treating multiple sclerosis with the swank ms ...</td>\n",
       "      <td>diet lifestyle etiology coronary artery diseas...</td>\n",
       "      <td>1</td>\n",
       "    </tr>\n",
       "    <tr>\n",
       "      <th>7665</th>\n",
       "      <td>cooked beans or sprouted beans ?</td>\n",
       "      <td>meal effects pulses blood glucose appetite foo...</td>\n",
       "      <td>1</td>\n",
       "    </tr>\n",
       "    <tr>\n",
       "      <th>...</th>\n",
       "      <td>...</td>\n",
       "      <td>...</td>\n",
       "      <td>...</td>\n",
       "    </tr>\n",
       "    <tr>\n",
       "      <th>9743</th>\n",
       "      <td>alzheimer ’ s disease : grain brain or meathead ?</td>\n",
       "      <td>reversing heart disease millennium--the flemin...</td>\n",
       "      <td>1</td>\n",
       "    </tr>\n",
       "    <tr>\n",
       "      <th>9879</th>\n",
       "      <td>veggie burgers</td>\n",
       "      <td>weight gain num years num meat-eating fish-eat...</td>\n",
       "      <td>1</td>\n",
       "    </tr>\n",
       "    <tr>\n",
       "      <th>53</th>\n",
       "      <td>detoxification</td>\n",
       "      <td>archaeologic dig rice-fruit diet reverses ecg ...</td>\n",
       "      <td>0</td>\n",
       "    </tr>\n",
       "    <tr>\n",
       "      <th>3965</th>\n",
       "      <td>can hibiscus tea cause coughing ?</td>\n",
       "      <td>prospective study long-term intake dietary fib...</td>\n",
       "      <td>0</td>\n",
       "    </tr>\n",
       "    <tr>\n",
       "      <th>4647</th>\n",
       "      <td>cats</td>\n",
       "      <td>iodine status thyroid function boston-area veg...</td>\n",
       "      <td>0</td>\n",
       "    </tr>\n",
       "  </tbody>\n",
       "</table>\n",
       "<p>16260 rows × 3 columns</p>\n",
       "</div>\n",
       "      <button class=\"colab-df-convert\" onclick=\"convertToInteractive('df-3bff54a2-653f-4a80-a99c-bb4192b7a0b7')\"\n",
       "              title=\"Convert this dataframe to an interactive table.\"\n",
       "              style=\"display:none;\">\n",
       "        \n",
       "  <svg xmlns=\"http://www.w3.org/2000/svg\" height=\"24px\"viewBox=\"0 0 24 24\"\n",
       "       width=\"24px\">\n",
       "    <path d=\"M0 0h24v24H0V0z\" fill=\"none\"/>\n",
       "    <path d=\"M18.56 5.44l.94 2.06.94-2.06 2.06-.94-2.06-.94-.94-2.06-.94 2.06-2.06.94zm-11 1L8.5 8.5l.94-2.06 2.06-.94-2.06-.94L8.5 2.5l-.94 2.06-2.06.94zm10 10l.94 2.06.94-2.06 2.06-.94-2.06-.94-.94-2.06-.94 2.06-2.06.94z\"/><path d=\"M17.41 7.96l-1.37-1.37c-.4-.4-.92-.59-1.43-.59-.52 0-1.04.2-1.43.59L10.3 9.45l-7.72 7.72c-.78.78-.78 2.05 0 2.83L4 21.41c.39.39.9.59 1.41.59.51 0 1.02-.2 1.41-.59l7.78-7.78 2.81-2.81c.8-.78.8-2.07 0-2.86zM5.41 20L4 18.59l7.72-7.72 1.47 1.35L5.41 20z\"/>\n",
       "  </svg>\n",
       "      </button>\n",
       "      \n",
       "  <style>\n",
       "    .colab-df-container {\n",
       "      display:flex;\n",
       "      flex-wrap:wrap;\n",
       "      gap: 12px;\n",
       "    }\n",
       "\n",
       "    .colab-df-convert {\n",
       "      background-color: #E8F0FE;\n",
       "      border: none;\n",
       "      border-radius: 50%;\n",
       "      cursor: pointer;\n",
       "      display: none;\n",
       "      fill: #1967D2;\n",
       "      height: 32px;\n",
       "      padding: 0 0 0 0;\n",
       "      width: 32px;\n",
       "    }\n",
       "\n",
       "    .colab-df-convert:hover {\n",
       "      background-color: #E2EBFA;\n",
       "      box-shadow: 0px 1px 2px rgba(60, 64, 67, 0.3), 0px 1px 3px 1px rgba(60, 64, 67, 0.15);\n",
       "      fill: #174EA6;\n",
       "    }\n",
       "\n",
       "    [theme=dark] .colab-df-convert {\n",
       "      background-color: #3B4455;\n",
       "      fill: #D2E3FC;\n",
       "    }\n",
       "\n",
       "    [theme=dark] .colab-df-convert:hover {\n",
       "      background-color: #434B5C;\n",
       "      box-shadow: 0px 1px 3px 1px rgba(0, 0, 0, 0.15);\n",
       "      filter: drop-shadow(0px 1px 2px rgba(0, 0, 0, 0.3));\n",
       "      fill: #FFFFFF;\n",
       "    }\n",
       "  </style>\n",
       "\n",
       "      <script>\n",
       "        const buttonEl =\n",
       "          document.querySelector('#df-3bff54a2-653f-4a80-a99c-bb4192b7a0b7 button.colab-df-convert');\n",
       "        buttonEl.style.display =\n",
       "          google.colab.kernel.accessAllowed ? 'block' : 'none';\n",
       "\n",
       "        async function convertToInteractive(key) {\n",
       "          const element = document.querySelector('#df-3bff54a2-653f-4a80-a99c-bb4192b7a0b7');\n",
       "          const dataTable =\n",
       "            await google.colab.kernel.invokeFunction('convertToInteractive',\n",
       "                                                     [key], {});\n",
       "          if (!dataTable) return;\n",
       "\n",
       "          const docLinkHtml = 'Like what you see? Visit the ' +\n",
       "            '<a target=\"_blank\" href=https://colab.research.google.com/notebooks/data_table.ipynb>data table notebook</a>'\n",
       "            + ' to learn more about interactive tables.';\n",
       "          element.innerHTML = '';\n",
       "          dataTable['output_type'] = 'display_data';\n",
       "          await google.colab.output.renderOutput(dataTable, element);\n",
       "          const docLink = document.createElement('div');\n",
       "          docLink.innerHTML = docLinkHtml;\n",
       "          element.appendChild(docLink);\n",
       "        }\n",
       "      </script>\n",
       "    </div>\n",
       "  </div>\n",
       "  "
      ],
      "text/plain": [
       "                                              textquery  \\\n",
       "5105                 protein , puberty , and pollutants   \n",
       "2104                                          vitamin e   \n",
       "2918                          protein and heart disease   \n",
       "8650  treating multiple sclerosis with the swank ms ...   \n",
       "7665                   cooked beans or sprouted beans ?   \n",
       "...                                                 ...   \n",
       "9743  alzheimer ’ s disease : grain brain or meathead ?   \n",
       "9879                                     veggie burgers   \n",
       "53                                       detoxification   \n",
       "3965                  can hibiscus tea cause coughing ?   \n",
       "4647                                               cats   \n",
       "\n",
       "                                                textdoc rellvl  \n",
       "5105  higher levels igf-i adrenal androgens age num ...      1  \n",
       "2104  calcified neurocysticercosis patients primary ...      0  \n",
       "2918  one-month strawberry-rich anthocyanin suppleme...      0  \n",
       "8650  diet lifestyle etiology coronary artery diseas...      1  \n",
       "7665  meal effects pulses blood glucose appetite foo...      1  \n",
       "...                                                 ...    ...  \n",
       "9743  reversing heart disease millennium--the flemin...      1  \n",
       "9879  weight gain num years num meat-eating fish-eat...      1  \n",
       "53    archaeologic dig rice-fruit diet reverses ecg ...      0  \n",
       "3965  prospective study long-term intake dietary fib...      0  \n",
       "4647  iodine status thyroid function boston-area veg...      0  \n",
       "\n",
       "[16260 rows x 3 columns]"
      ]
     },
     "execution_count": 14,
     "metadata": {},
     "output_type": "execute_result"
    }
   ],
   "source": [
    "train_data = merged_data.append(negdf)\n",
    "train_data = train_data.sample(frac=1) # shuffle data\n",
    "train_data"
   ]
  },
  {
   "cell_type": "markdown",
   "id": "90ae7ac1-df2c-414c-9812-2972fb1c42fe",
   "metadata": {},
   "source": [
    "## Load and build the model"
   ]
  },
  {
   "cell_type": "markdown",
   "id": "bebcb745-6318-4a4d-9ec3-62e1699a57cb",
   "metadata": {},
   "source": [
    "### Preprocessing with Tokenizing"
   ]
  },
  {
   "cell_type": "code",
   "execution_count": 15,
   "id": "a07afeee-7737-47e7-8731-810010eb6e12",
   "metadata": {
    "id": "a07afeee-7737-47e7-8731-810010eb6e12"
   },
   "outputs": [],
   "source": [
    "preprocessor = hub.load(\n",
    "    \"https://tfhub.dev/tensorflow/bert_en_uncased_preprocess/3\")\n",
    "\n",
    "\n",
    "text_inputs = [tf.keras.layers.Input(shape=(), dtype=tf.string, name=\"query\"),\n",
    "               tf.keras.layers.Input(shape=(), dtype=tf.string, name=\"document\")]\n",
    "\n",
    "tokenize = hub.KerasLayer(preprocessor.tokenize, name='tokenize')\n",
    "tokenized_inputs = [tokenize(segment) for segment in text_inputs]\n",
    "\n",
    "# Step 2 (optional): modify tokenized inputs.\n",
    "pass\n",
    "\n",
    "# Step 3: pack input sequences for the Transformer encoder.\n",
    "seq_length = 512  # Your choice here.\n",
    "bert_pack_inputs = hub.KerasLayer(\n",
    "    preprocessor.bert_pack_inputs,\n",
    "    arguments=dict(seq_length=seq_length), name='preprocessing')  # Optional argument.\n",
    "\n",
    "encoder_inputs = bert_pack_inputs(tokenized_inputs)\n",
    "\n",
    "\n",
    "#input = preprocessor([[\"This is an amazing movie!\"], [\"Guten Tag!\"]])"
   ]
  },
  {
   "cell_type": "markdown",
   "id": "3f8f40b2-3b74-40e6-9cdc-6d10c8eee1d8",
   "metadata": {},
   "source": [
    "### The encoder"
   ]
  },
  {
   "cell_type": "code",
   "execution_count": 16,
   "id": "b2cdaafe-5400-4699-851c-beb105fdad22",
   "metadata": {
    "id": "b2cdaafe-5400-4699-851c-beb105fdad22"
   },
   "outputs": [],
   "source": [
    "encoder = hub.KerasLayer(\n",
    "    \"https://tfhub.dev/tensorflow/small_bert/bert_en_uncased_L-4_H-512_A-8/2\",\n",
    "    trainable=True,  name='BERT_encoder')"
   ]
  },
  {
   "cell_type": "code",
   "execution_count": 17,
   "id": "a69e7857-cef9-418e-8f54-7a6019ae426e",
   "metadata": {
    "id": "a69e7857-cef9-418e-8f54-7a6019ae426e"
   },
   "outputs": [],
   "source": [
    "outputs = encoder(encoder_inputs)\n",
    "pooled_output = outputs[\"pooled_output\"]"
   ]
  },
  {
   "cell_type": "markdown",
   "id": "6560842e-1f70-4a9a-9e30-7ab74bec0b4b",
   "metadata": {},
   "source": [
    "### Plot input length"
   ]
  },
  {
   "cell_type": "code",
   "execution_count": 63,
   "id": "MFEUagUX0YCQ",
   "metadata": {
    "id": "MFEUagUX0YCQ"
   },
   "outputs": [],
   "source": [
    "res_tokenize = [tokenize([tf.constant(i), tf.constant(j)]) for (i, j) in zip(train_data[\"textquery\"], train_data[\"textdoc\"])]"
   ]
  },
  {
   "cell_type": "code",
   "execution_count": 55,
   "id": "fnl1oeyo3_CV",
   "metadata": {
    "id": "fnl1oeyo3_CV"
   },
   "outputs": [],
   "source": [
    "tmp = [i.numpy() for i in res_tokenize]"
   ]
  },
  {
   "cell_type": "code",
   "execution_count": 88,
   "id": "jhbKdlqi-0OP",
   "metadata": {
    "colab": {
     "base_uri": "https://localhost:8080/"
    },
    "id": "jhbKdlqi-0OP",
    "outputId": "272a7a72-b887-42cf-e212-1f592b6f2011"
   },
   "outputs": [
    {
     "data": {
      "text/plain": [
       "5105                   protein , puberty , and pollutants\n",
       "2104                                            vitamin e\n",
       "2918                            protein and heart disease\n",
       "8650    treating multiple sclerosis with the swank ms ...\n",
       "7665                     cooked beans or sprouted beans ?\n",
       "                              ...                        \n",
       "9743    alzheimer ’ s disease : grain brain or meathead ?\n",
       "9879                                       veggie burgers\n",
       "53                                         detoxification\n",
       "3965                    can hibiscus tea cause coughing ?\n",
       "4647                                                 cats\n",
       "Name: textquery, Length: 16260, dtype: object"
      ]
     },
     "execution_count": 88,
     "metadata": {},
     "output_type": "execute_result"
    }
   ],
   "source": [
    "train_data[\"textquery\"]"
   ]
  },
  {
   "cell_type": "code",
   "execution_count": 97,
   "id": "OMT1w8dN5g2y",
   "metadata": {
    "id": "OMT1w8dN5g2y"
   },
   "outputs": [],
   "source": [
    "res = []\n",
    "\n",
    "for sample in tmp:\n",
    "  item_l = []\n",
    "  for item in sample:\n",
    "    for number in item:\n",
    "      for val in number.tolist():\n",
    "        item_l.append(val)\n",
    "  res.append(item_l)"
   ]
  },
  {
   "cell_type": "code",
   "execution_count": 109,
   "id": "M0wiGsHx-Yb0",
   "metadata": {
    "colab": {
     "base_uri": "https://localhost:8080/",
     "height": 406
    },
    "id": "M0wiGsHx-Yb0",
    "outputId": "e39a9354-025c-44d2-d20b-59caa705b4af"
   },
   "outputs": [
    {
     "data": {
      "text/plain": [
       "<matplotlib.legend.Legend at 0x7f58cb4dda10>"
      ]
     },
     "execution_count": 109,
     "metadata": {},
     "output_type": "execute_result"
    },
    {
     "data": {
      "image/png": "[encoded data removed]",
      "text/plain": [
       "<Figure size 720x432 with 1 Axes>"
      ]
     },
     "metadata": {},
     "output_type": "display_data"
    }
   ],
   "source": [
    "import seaborn as sns\n",
    "from matplotlib import pyplot as plt\n",
    "sns.set_style(\"whitegrid\")\n",
    "plt.figure(figsize=(10,6))\n",
    "sns.histplot([len(i)+3 for i in res])\n",
    "plt.vlines(x=512, ymin=0, ymax=800, linestyles=\"--\", label=\"cutoff\")\n",
    "plt.xlabel(\"Length of tokenized input\")\n",
    "plt.ylabel(\"Frequency\")\n",
    "plt.legend()"
   ]
  },
  {
   "cell_type": "code",
   "execution_count": 110,
   "id": "53fb38bf-390d-420d-bcf8-89507afc1d63",
   "metadata": {
    "id": "53fb38bf-390d-420d-bcf8-89507afc1d63"
   },
   "outputs": [],
   "source": [
    "x = tf.keras.layers.Dropout(0.1)(pooled_output)\n",
    "x = tf.keras.layers.Dense(1, activation=None, name='classifier')(x)\n",
    "model = tf.keras.Model(text_inputs, x)"
   ]
  },
  {
   "cell_type": "code",
   "execution_count": 111,
   "id": "0de95d31-e04c-454d-a2f6-88e941461b11",
   "metadata": {
    "id": "0de95d31-e04c-454d-a2f6-88e941461b11"
   },
   "outputs": [],
   "source": [
    "#print(model([sentences1, sentences2]))"
   ]
  },
  {
   "cell_type": "code",
   "execution_count": 112,
   "id": "4398a845-458b-47b2-a530-25ed0c7a98f6",
   "metadata": {
    "id": "4398a845-458b-47b2-a530-25ed0c7a98f6"
   },
   "outputs": [],
   "source": [
    "# Set up epochs and steps\n",
    "epochs = 3\n",
    "batch_size = 32\n",
    "eval_batch_size = 32\n",
    "\n",
    "train_data_size = len(train_data)\n",
    "steps_per_epoch = int(train_data_size / batch_size)\n",
    "num_train_steps = steps_per_epoch * epochs\n",
    "warmup_steps = int(epochs * train_data_size * 0.1 / batch_size)\n",
    "\n",
    "# creates an optimizer with learning rate schedule\n",
    "optimizer = nlp.optimization.create_optimizer(\n",
    "    2e-5, num_train_steps=num_train_steps, num_warmup_steps=warmup_steps)\n",
    "\n",
    "loss = tf.keras.losses.BinaryCrossentropy(from_logits=True)\n",
    "metrics = tf.metrics.BinaryAccuracy()\n"
   ]
  },
  {
   "cell_type": "code",
   "execution_count": 113,
   "id": "5b687ee8-0e14-4677-b397-95a1fbc0bcd3",
   "metadata": {
    "colab": {
     "base_uri": "https://localhost:8080/",
     "height": 564
    },
    "id": "5b687ee8-0e14-4677-b397-95a1fbc0bcd3",
    "outputId": "6a5cd098-f736-4002-a140-36e6b252b9d1"
   },
   "outputs": [
    {
     "data": {
      "image/png": "[encoded data removed]",
      "text/plain": [
       "<IPython.core.display.Image object>"
      ]
     },
     "execution_count": 113,
     "metadata": {},
     "output_type": "execute_result"
    }
   ],
   "source": [
    "tf.keras.utils.plot_model(model)"
   ]
  },
  {
   "cell_type": "code",
   "execution_count": 114,
   "id": "16d293b9-77d5-46eb-8dea-dfd239218b06",
   "metadata": {
    "id": "16d293b9-77d5-46eb-8dea-dfd239218b06"
   },
   "outputs": [],
   "source": [
    "model.compile(\n",
    "    optimizer=optimizer,\n",
    "    loss=loss,\n",
    "    metrics=metrics)"
   ]
  },
  {
   "cell_type": "code",
   "execution_count": 115,
   "id": "4b37f2a9-cdcf-4b29-a7a3-eaf432e3fcce",
   "metadata": {
    "colab": {
     "base_uri": "https://localhost:8080/"
    },
    "id": "4b37f2a9-cdcf-4b29-a7a3-eaf432e3fcce",
    "outputId": "b664fc00-df00-4cf7-bb8f-5239be5b3b63"
   },
   "outputs": [
    {
     "name": "stdout",
     "output_type": "stream",
     "text": [
      "Training model with https://tfhub.dev/tensorflow/small_bert/bert_en_uncased_L-4_H-512_A-8/2\n",
      "Epoch 1/3\n",
      "458/458 [==============================] - 767s 2s/step - loss: 0.5269 - binary_accuracy: 0.7038 - val_loss: 0.4693 - val_binary_accuracy: 0.7183\n",
      "Epoch 2/3\n",
      "458/458 [==============================] - 753s 2s/step - loss: 0.4523 - binary_accuracy: 0.7694 - val_loss: 0.4412 - val_binary_accuracy: 0.7823\n",
      "Epoch 3/3\n",
      "458/458 [==============================] - 752s 2s/step - loss: 0.4178 - binary_accuracy: 0.7926 - val_loss: 0.4331 - val_binary_accuracy: 0.7601\n"
     ]
    }
   ],
   "source": [
    "print(f'Training model with https://tfhub.dev/tensorflow/small_bert/bert_en_uncased_L-4_H-512_A-8/2')\n",
    "history = model.fit(x=[train_data[\"textquery\"], train_data[\"textdoc\"]], \n",
    "                    y=train_data[\"rellvl\"].astype(\"int64\"),\n",
    "                    validation_split=0.1,\n",
    "                    epochs=epochs)"
   ]
  },
  {
   "cell_type": "markdown",
   "id": "25198985-3f44-47f0-bf13-4960cbdf91bd",
   "metadata": {},
   "source": [
    "## Store the model for later use"
   ]
  },
  {
   "cell_type": "code",
   "execution_count": 116,
   "id": "88fb0058-a048-41b0-a809-da93a42606d3",
   "metadata": {
    "colab": {
     "base_uri": "https://localhost:8080/"
    },
    "id": "88fb0058-a048-41b0-a809-da93a42606d3",
    "outputId": "fa8f376b-085a-436b-cbad-7d3f4ee290d2"
   },
   "outputs": [
    {
     "name": "stderr",
     "output_type": "stream",
     "text": [
      "WARNING:absl:Found untraced functions such as restored_function_body, restored_function_body, restored_function_body, restored_function_body, restored_function_body while saving (showing 5 of 126). These functions will not be directly callable after loading.\n"
     ]
    },
    {
     "name": "stdout",
     "output_type": "stream",
     "text": [
      "INFO:tensorflow:Assets written to: /content/drive/MyDrive/monobert/mono_bert/assets\n"
     ]
    },
    {
     "name": "stderr",
     "output_type": "stream",
     "text": [
      "INFO:tensorflow:Assets written to: /content/drive/MyDrive/monobert/mono_bert/assets\n"
     ]
    }
   ],
   "source": [
    "dataset_name = 'mono'\n",
    "saved_model_path = '/content/drive/MyDrive/monobert/{}_bert'.format(dataset_name.replace('/', '_'))\n",
    "\n",
    "model.save(saved_model_path, include_optimizer=False)"
   ]
  },
  {
   "cell_type": "code",
   "execution_count": 116,
   "id": "94e250b9-a7b2-4790-87d3-369c62c42dc0",
   "metadata": {
    "id": "94e250b9-a7b2-4790-87d3-369c62c42dc0"
   },
   "outputs": [],
   "source": []
  }
 ],
 "metadata": {
  "accelerator": "GPU",
  "colab": {
   "name": "finetune.ipynb",
   "provenance": []
  },
  "kernelspec": {
   "display_name": "Python 3",
   "language": "python",
   "name": "python3"
  },
  "language_info": {
   "codemirror_mode": {
    "name": "ipython",
    "version": 3
   },
   "file_extension": ".py",
   "mimetype": "text/x-python",
   "name": "python",
   "nbconvert_exporter": "python",
   "pygments_lexer": "ipython3",
   "version": "3.7.3"
  }
 },
 "nbformat": 4,
 "nbformat_minor": 5
}
